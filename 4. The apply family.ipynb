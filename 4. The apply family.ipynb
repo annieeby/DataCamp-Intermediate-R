{
 "cells": [
  {
   "cell_type": "code",
   "execution_count": 3,
   "metadata": {},
   "outputs": [],
   "source": [
    "# The vector pioneers has already been created for you\n",
    "pioneers <- c(\"GAUSS:1777\", \"BAYES:1702\", \"PASCAL:1623\", \"PEARSON:1857\")\n",
    "\n",
    "# Split names from birth year\n",
    "split_math <- strsplit(pioneers, split = \":\")"
   ]
  },
  {
   "cell_type": "code",
   "execution_count": 4,
   "metadata": {},
   "outputs": [
    {
     "data": {
      "text/html": [
       "<ol>\n",
       "\t<li><ol class=list-inline>\n",
       "\t<li>'GAUSS'</li>\n",
       "\t<li>'1777'</li>\n",
       "</ol>\n",
       "</li>\n",
       "\t<li><ol class=list-inline>\n",
       "\t<li>'BAYES'</li>\n",
       "\t<li>'1702'</li>\n",
       "</ol>\n",
       "</li>\n",
       "\t<li><ol class=list-inline>\n",
       "\t<li>'PASCAL'</li>\n",
       "\t<li>'1623'</li>\n",
       "</ol>\n",
       "</li>\n",
       "\t<li><ol class=list-inline>\n",
       "\t<li>'PEARSON'</li>\n",
       "\t<li>'1857'</li>\n",
       "</ol>\n",
       "</li>\n",
       "</ol>\n"
      ],
      "text/latex": [
       "\\begin{enumerate}\n",
       "\\item \\begin{enumerate*}\n",
       "\\item 'GAUSS'\n",
       "\\item '1777'\n",
       "\\end{enumerate*}\n",
       "\n",
       "\\item \\begin{enumerate*}\n",
       "\\item 'BAYES'\n",
       "\\item '1702'\n",
       "\\end{enumerate*}\n",
       "\n",
       "\\item \\begin{enumerate*}\n",
       "\\item 'PASCAL'\n",
       "\\item '1623'\n",
       "\\end{enumerate*}\n",
       "\n",
       "\\item \\begin{enumerate*}\n",
       "\\item 'PEARSON'\n",
       "\\item '1857'\n",
       "\\end{enumerate*}\n",
       "\n",
       "\\end{enumerate}\n"
      ],
      "text/markdown": [
       "1. 1. 'GAUSS'\n",
       "2. '1777'\n",
       "\n",
       "\n",
       "\n",
       "2. 1. 'BAYES'\n",
       "2. '1702'\n",
       "\n",
       "\n",
       "\n",
       "3. 1. 'PASCAL'\n",
       "2. '1623'\n",
       "\n",
       "\n",
       "\n",
       "4. 1. 'PEARSON'\n",
       "2. '1857'\n",
       "\n",
       "\n",
       "\n",
       "\n",
       "\n"
      ],
      "text/plain": [
       "[[1]]\n",
       "[1] \"GAUSS\" \"1777\" \n",
       "\n",
       "[[2]]\n",
       "[1] \"BAYES\" \"1702\" \n",
       "\n",
       "[[3]]\n",
       "[1] \"PASCAL\" \"1623\"  \n",
       "\n",
       "[[4]]\n",
       "[1] \"PEARSON\" \"1857\"   \n"
      ]
     },
     "metadata": {},
     "output_type": "display_data"
    }
   ],
   "source": [
    "split_math"
   ]
  },
  {
   "cell_type": "code",
   "execution_count": 5,
   "metadata": {},
   "outputs": [
    {
     "data": {
      "text/html": [
       "<ol class=list-inline>\n",
       "\t<li>'GAUSS'</li>\n",
       "\t<li>'1777'</li>\n",
       "\t<li>'BAYES'</li>\n",
       "\t<li>'1702'</li>\n",
       "\t<li>'PASCAL'</li>\n",
       "\t<li>'1623'</li>\n",
       "\t<li>'PEARSON'</li>\n",
       "\t<li>'1857'</li>\n",
       "</ol>\n"
      ],
      "text/latex": [
       "\\begin{enumerate*}\n",
       "\\item 'GAUSS'\n",
       "\\item '1777'\n",
       "\\item 'BAYES'\n",
       "\\item '1702'\n",
       "\\item 'PASCAL'\n",
       "\\item '1623'\n",
       "\\item 'PEARSON'\n",
       "\\item '1857'\n",
       "\\end{enumerate*}\n"
      ],
      "text/markdown": [
       "1. 'GAUSS'\n",
       "2. '1777'\n",
       "3. 'BAYES'\n",
       "4. '1702'\n",
       "5. 'PASCAL'\n",
       "6. '1623'\n",
       "7. 'PEARSON'\n",
       "8. '1857'\n",
       "\n",
       "\n"
      ],
      "text/plain": [
       "[1] \"GAUSS\"   \"1777\"    \"BAYES\"   \"1702\"    \"PASCAL\"  \"1623\"    \"PEARSON\"\n",
       "[8] \"1857\"   "
      ]
     },
     "metadata": {},
     "output_type": "display_data"
    }
   ],
   "source": [
    "unlist(split_math)"
   ]
  },
  {
   "cell_type": "code",
   "execution_count": 8,
   "metadata": {},
   "outputs": [
    {
     "data": {
      "text/html": [
       "<ol>\n",
       "\t<li><ol class=list-inline>\n",
       "\t<li>'gauss'</li>\n",
       "\t<li>'1777'</li>\n",
       "</ol>\n",
       "</li>\n",
       "\t<li><ol class=list-inline>\n",
       "\t<li>'bayes'</li>\n",
       "\t<li>'1702'</li>\n",
       "</ol>\n",
       "</li>\n",
       "\t<li><ol class=list-inline>\n",
       "\t<li>'pascal'</li>\n",
       "\t<li>'1623'</li>\n",
       "</ol>\n",
       "</li>\n",
       "\t<li><ol class=list-inline>\n",
       "\t<li>'pearson'</li>\n",
       "\t<li>'1857'</li>\n",
       "</ol>\n",
       "</li>\n",
       "</ol>\n"
      ],
      "text/latex": [
       "\\begin{enumerate}\n",
       "\\item \\begin{enumerate*}\n",
       "\\item 'gauss'\n",
       "\\item '1777'\n",
       "\\end{enumerate*}\n",
       "\n",
       "\\item \\begin{enumerate*}\n",
       "\\item 'bayes'\n",
       "\\item '1702'\n",
       "\\end{enumerate*}\n",
       "\n",
       "\\item \\begin{enumerate*}\n",
       "\\item 'pascal'\n",
       "\\item '1623'\n",
       "\\end{enumerate*}\n",
       "\n",
       "\\item \\begin{enumerate*}\n",
       "\\item 'pearson'\n",
       "\\item '1857'\n",
       "\\end{enumerate*}\n",
       "\n",
       "\\end{enumerate}\n"
      ],
      "text/markdown": [
       "1. 1. 'gauss'\n",
       "2. '1777'\n",
       "\n",
       "\n",
       "\n",
       "2. 1. 'bayes'\n",
       "2. '1702'\n",
       "\n",
       "\n",
       "\n",
       "3. 1. 'pascal'\n",
       "2. '1623'\n",
       "\n",
       "\n",
       "\n",
       "4. 1. 'pearson'\n",
       "2. '1857'\n",
       "\n",
       "\n",
       "\n",
       "\n",
       "\n"
      ],
      "text/plain": [
       "[[1]]\n",
       "[1] \"gauss\" \"1777\" \n",
       "\n",
       "[[2]]\n",
       "[1] \"bayes\" \"1702\" \n",
       "\n",
       "[[3]]\n",
       "[1] \"pascal\" \"1623\"  \n",
       "\n",
       "[[4]]\n",
       "[1] \"pearson\" \"1857\"   \n"
      ]
     },
     "metadata": {},
     "output_type": "display_data"
    }
   ],
   "source": [
    "# The vector pioneers has already been created for you\n",
    "pioneers <- c(\"GAUSS:1777\", \"BAYES:1702\", \"PASCAL:1623\", \"PEARSON:1857\")\n",
    "\n",
    "# Split names from birth year\n",
    "split_math <- strsplit(pioneers, split = \":\")\n",
    "\n",
    "# Convert to lowercase strings: split_low\n",
    "# lapply(X, FUN, …)\n",
    "\n",
    "split_low <- lapply(split_math,tolower)\n",
    "split_low"
   ]
  },
  {
   "cell_type": "code",
   "execution_count": 9,
   "metadata": {},
   "outputs": [
    {
     "name": "stdout",
     "output_type": "stream",
     "text": [
      "List of 4\n",
      " $ : chr [1:2] \"gauss\" \"1777\"\n",
      " $ : chr [1:2] \"bayes\" \"1702\"\n",
      " $ : chr [1:2] \"pascal\" \"1623\"\n",
      " $ : chr [1:2] \"pearson\" \"1857\"\n"
     ]
    }
   ],
   "source": [
    "# Take a look at the structure of split_low\n",
    "str(split_low)"
   ]
  },
  {
   "cell_type": "code",
   "execution_count": 12,
   "metadata": {},
   "outputs": [
    {
     "data": {
      "text/html": [
       "<ol>\n",
       "\t<li>'gauss'</li>\n",
       "\t<li>'bayes'</li>\n",
       "\t<li>'pascal'</li>\n",
       "\t<li>'pearson'</li>\n",
       "</ol>\n"
      ],
      "text/latex": [
       "\\begin{enumerate}\n",
       "\\item 'gauss'\n",
       "\\item 'bayes'\n",
       "\\item 'pascal'\n",
       "\\item 'pearson'\n",
       "\\end{enumerate}\n"
      ],
      "text/markdown": [
       "1. 'gauss'\n",
       "2. 'bayes'\n",
       "3. 'pascal'\n",
       "4. 'pearson'\n",
       "\n",
       "\n"
      ],
      "text/plain": [
       "[[1]]\n",
       "[1] \"gauss\"\n",
       "\n",
       "[[2]]\n",
       "[1] \"bayes\"\n",
       "\n",
       "[[3]]\n",
       "[1] \"pascal\"\n",
       "\n",
       "[[4]]\n",
       "[1] \"pearson\"\n"
      ]
     },
     "metadata": {},
     "output_type": "display_data"
    },
    {
     "data": {
      "text/html": [
       "<ol>\n",
       "\t<li>'1777'</li>\n",
       "\t<li>'1702'</li>\n",
       "\t<li>'1623'</li>\n",
       "\t<li>'1857'</li>\n",
       "</ol>\n"
      ],
      "text/latex": [
       "\\begin{enumerate}\n",
       "\\item '1777'\n",
       "\\item '1702'\n",
       "\\item '1623'\n",
       "\\item '1857'\n",
       "\\end{enumerate}\n"
      ],
      "text/markdown": [
       "1. '1777'\n",
       "2. '1702'\n",
       "3. '1623'\n",
       "4. '1857'\n",
       "\n",
       "\n"
      ],
      "text/plain": [
       "[[1]]\n",
       "[1] \"1777\"\n",
       "\n",
       "[[2]]\n",
       "[1] \"1702\"\n",
       "\n",
       "[[3]]\n",
       "[1] \"1623\"\n",
       "\n",
       "[[4]]\n",
       "[1] \"1857\"\n"
      ]
     },
     "metadata": {},
     "output_type": "display_data"
    }
   ],
   "source": [
    "# Code from previous exercise:\n",
    "pioneers <- c(\"GAUSS:1777\", \"BAYES:1702\", \"PASCAL:1623\", \"PEARSON:1857\")\n",
    "split <- strsplit(pioneers, split = \":\")\n",
    "split_low <- lapply(split, tolower)\n",
    "\n",
    "# Write function select_first()\n",
    "select_first <- function(x) {\n",
    "  x[1]\n",
    "}\n",
    "\n",
    "# Apply select_first() over split_low: names\n",
    "\n",
    "names <- lapply(split_low, select_first)\n",
    "\n",
    "\n",
    "# Write function select_second()\n",
    "\n",
    "select_second <- function(x) {\n",
    "  x[2]\n",
    "}\n",
    "\n",
    "\n",
    "# Apply select_second() over split_low: years\n",
    "\n",
    "years <- lapply(split_low, select_second)\n",
    "\n",
    "\n",
    "# print\n",
    "names\n",
    "years"
   ]
  },
  {
   "cell_type": "code",
   "execution_count": 13,
   "metadata": {},
   "outputs": [
    {
     "data": {
      "text/html": [
       "<pre class=language-r><code>function (x) \n",
       "{\n",
       "<span style=white-space:pre-wrap>    3 * x</span>\n",
       "}</code></pre>"
      ],
      "text/latex": [
       "\\begin{minted}{r}\n",
       "function (x) \n",
       "\\{\n",
       "    3 * x\n",
       "\\}\n",
       "\\end{minted}"
      ],
      "text/markdown": [
       "```r\n",
       "function (x) \n",
       "{\n",
       "    3 * x\n",
       "}\n",
       "```"
      ],
      "text/plain": [
       "function(x) { 3 * x }"
      ]
     },
     "metadata": {},
     "output_type": "display_data"
    },
    {
     "data": {
      "text/html": [
       "<ol>\n",
       "\t<li>3</li>\n",
       "\t<li>6</li>\n",
       "\t<li>9</li>\n",
       "</ol>\n"
      ],
      "text/latex": [
       "\\begin{enumerate}\n",
       "\\item 3\n",
       "\\item 6\n",
       "\\item 9\n",
       "\\end{enumerate}\n"
      ],
      "text/markdown": [
       "1. 3\n",
       "2. 6\n",
       "3. 9\n",
       "\n",
       "\n"
      ],
      "text/plain": [
       "[[1]]\n",
       "[1] 3\n",
       "\n",
       "[[2]]\n",
       "[1] 6\n",
       "\n",
       "[[3]]\n",
       "[1] 9\n"
      ]
     },
     "metadata": {},
     "output_type": "display_data"
    }
   ],
   "source": [
    "# When you create a function, you can use the assignment operator to give the function a name. It's perfectly possible, however, to not give the function a name. This is called an anonymous function:\n",
    "\n",
    "# Named function\n",
    "triple <- function(x) { 3 * x }\n",
    "\n",
    "# Anonymous function with same implementation\n",
    "function(x) { 3 * x }\n",
    "\n",
    "# Use anonymous function inside lapply()\n",
    "lapply(list(1,2,3), function(x) { 3 * x })"
   ]
  },
  {
   "cell_type": "code",
   "execution_count": 20,
   "metadata": {},
   "outputs": [
    {
     "data": {
      "text/html": [
       "<ol>\n",
       "\t<li><ol class=list-inline>\n",
       "\t<li>'gauss'</li>\n",
       "\t<li>'1777'</li>\n",
       "</ol>\n",
       "</li>\n",
       "\t<li><ol class=list-inline>\n",
       "\t<li>'bayes'</li>\n",
       "\t<li>'1702'</li>\n",
       "</ol>\n",
       "</li>\n",
       "\t<li><ol class=list-inline>\n",
       "\t<li>'pascal'</li>\n",
       "\t<li>'1623'</li>\n",
       "</ol>\n",
       "</li>\n",
       "\t<li><ol class=list-inline>\n",
       "\t<li>'pearson'</li>\n",
       "\t<li>'1857'</li>\n",
       "</ol>\n",
       "</li>\n",
       "</ol>\n"
      ],
      "text/latex": [
       "\\begin{enumerate}\n",
       "\\item \\begin{enumerate*}\n",
       "\\item 'gauss'\n",
       "\\item '1777'\n",
       "\\end{enumerate*}\n",
       "\n",
       "\\item \\begin{enumerate*}\n",
       "\\item 'bayes'\n",
       "\\item '1702'\n",
       "\\end{enumerate*}\n",
       "\n",
       "\\item \\begin{enumerate*}\n",
       "\\item 'pascal'\n",
       "\\item '1623'\n",
       "\\end{enumerate*}\n",
       "\n",
       "\\item \\begin{enumerate*}\n",
       "\\item 'pearson'\n",
       "\\item '1857'\n",
       "\\end{enumerate*}\n",
       "\n",
       "\\end{enumerate}\n"
      ],
      "text/markdown": [
       "1. 1. 'gauss'\n",
       "2. '1777'\n",
       "\n",
       "\n",
       "\n",
       "2. 1. 'bayes'\n",
       "2. '1702'\n",
       "\n",
       "\n",
       "\n",
       "3. 1. 'pascal'\n",
       "2. '1623'\n",
       "\n",
       "\n",
       "\n",
       "4. 1. 'pearson'\n",
       "2. '1857'\n",
       "\n",
       "\n",
       "\n",
       "\n",
       "\n"
      ],
      "text/plain": [
       "[[1]]\n",
       "[1] \"gauss\" \"1777\" \n",
       "\n",
       "[[2]]\n",
       "[1] \"bayes\" \"1702\" \n",
       "\n",
       "[[3]]\n",
       "[1] \"pascal\" \"1623\"  \n",
       "\n",
       "[[4]]\n",
       "[1] \"pearson\" \"1857\"   \n"
      ]
     },
     "metadata": {},
     "output_type": "display_data"
    },
    {
     "data": {
      "text/html": [
       "<ol>\n",
       "\t<li>'gauss'</li>\n",
       "\t<li>'bayes'</li>\n",
       "\t<li>'pascal'</li>\n",
       "\t<li>'pearson'</li>\n",
       "</ol>\n"
      ],
      "text/latex": [
       "\\begin{enumerate}\n",
       "\\item 'gauss'\n",
       "\\item 'bayes'\n",
       "\\item 'pascal'\n",
       "\\item 'pearson'\n",
       "\\end{enumerate}\n"
      ],
      "text/markdown": [
       "1. 'gauss'\n",
       "2. 'bayes'\n",
       "3. 'pascal'\n",
       "4. 'pearson'\n",
       "\n",
       "\n"
      ],
      "text/plain": [
       "[[1]]\n",
       "[1] \"gauss\"\n",
       "\n",
       "[[2]]\n",
       "[1] \"bayes\"\n",
       "\n",
       "[[3]]\n",
       "[1] \"pascal\"\n",
       "\n",
       "[[4]]\n",
       "[1] \"pearson\"\n"
      ]
     },
     "metadata": {},
     "output_type": "display_data"
    },
    {
     "data": {
      "text/html": [
       "<ol>\n",
       "\t<li>'1777'</li>\n",
       "\t<li>'1702'</li>\n",
       "\t<li>'1623'</li>\n",
       "\t<li>'1857'</li>\n",
       "</ol>\n"
      ],
      "text/latex": [
       "\\begin{enumerate}\n",
       "\\item '1777'\n",
       "\\item '1702'\n",
       "\\item '1623'\n",
       "\\item '1857'\n",
       "\\end{enumerate}\n"
      ],
      "text/markdown": [
       "1. '1777'\n",
       "2. '1702'\n",
       "3. '1623'\n",
       "4. '1857'\n",
       "\n",
       "\n"
      ],
      "text/plain": [
       "[[1]]\n",
       "[1] \"1777\"\n",
       "\n",
       "[[2]]\n",
       "[1] \"1702\"\n",
       "\n",
       "[[3]]\n",
       "[1] \"1623\"\n",
       "\n",
       "[[4]]\n",
       "[1] \"1857\"\n"
      ]
     },
     "metadata": {},
     "output_type": "display_data"
    }
   ],
   "source": [
    "# Transform the calls of lapply() such that they use an anonymous function that does the same thing.\n",
    "\n",
    "# split_low has been created for you\n",
    "\n",
    "# Transform: use anonymous function inside lapply\n",
    "select_first <- function(x) {\n",
    "  x[1]\n",
    "}\n",
    "names <- lapply(split_low, select_first)\n",
    "#is the same as\n",
    "names <- lapply(split_low, function(x) {x[1]})\n",
    "\n",
    "# Transform: use anonymous function inside lapply\n",
    "select_second <- function(x) {\n",
    "  x[2]\n",
    "}\n",
    "years <- lapply(split_low, select_second)\n",
    "#is the same as\n",
    "names <- lapply(split_low, function(x) {x[1]})\n",
    "\n",
    "#print \n",
    "split_low\n",
    "names\n",
    "years"
   ]
  },
  {
   "cell_type": "code",
   "execution_count": 23,
   "metadata": {},
   "outputs": [],
   "source": [
    "# lapply() provides a way to handle functions that require more than one argument, such as the multiply() function:\n",
    "multiply <- function(x, factor) {\n",
    "  x * factor\n",
    "}"
   ]
  },
  {
   "cell_type": "code",
   "execution_count": 24,
   "metadata": {},
   "outputs": [
    {
     "data": {
      "text/html": [
       "<ol>\n",
       "\t<li>3</li>\n",
       "\t<li>6</li>\n",
       "\t<li>9</li>\n",
       "</ol>\n"
      ],
      "text/latex": [
       "\\begin{enumerate}\n",
       "\\item 3\n",
       "\\item 6\n",
       "\\item 9\n",
       "\\end{enumerate}\n"
      ],
      "text/markdown": [
       "1. 3\n",
       "2. 6\n",
       "3. 9\n",
       "\n",
       "\n"
      ],
      "text/plain": [
       "[[1]]\n",
       "[1] 3\n",
       "\n",
       "[[2]]\n",
       "[1] 6\n",
       "\n",
       "[[3]]\n",
       "[1] 9\n"
      ]
     },
     "metadata": {},
     "output_type": "display_data"
    }
   ],
   "source": [
    "lapply(list(1,2,3), multiply, factor = 3)"
   ]
  },
  {
   "cell_type": "code",
   "execution_count": 25,
   "metadata": {},
   "outputs": [
    {
     "data": {
      "text/html": [
       "<ol>\n",
       "\t<li>4</li>\n",
       "\t<li>8</li>\n",
       "\t<li>12</li>\n",
       "</ol>\n"
      ],
      "text/latex": [
       "\\begin{enumerate}\n",
       "\\item 4\n",
       "\\item 8\n",
       "\\item 12\n",
       "\\end{enumerate}\n"
      ],
      "text/markdown": [
       "1. 4\n",
       "2. 8\n",
       "3. 12\n",
       "\n",
       "\n"
      ],
      "text/plain": [
       "[[1]]\n",
       "[1] 4\n",
       "\n",
       "[[2]]\n",
       "[1] 8\n",
       "\n",
       "[[3]]\n",
       "[1] 12\n"
      ]
     },
     "metadata": {},
     "output_type": "display_data"
    }
   ],
   "source": [
    "lapply(list(1,2,3), multiply, factor = 4)"
   ]
  },
  {
   "cell_type": "code",
   "execution_count": 27,
   "metadata": {},
   "outputs": [
    {
     "data": {
      "text/html": [
       "<ol>\n",
       "\t<li>'gauss'</li>\n",
       "\t<li>'bayes'</li>\n",
       "\t<li>'pascal'</li>\n",
       "\t<li>'pearson'</li>\n",
       "</ol>\n"
      ],
      "text/latex": [
       "\\begin{enumerate}\n",
       "\\item 'gauss'\n",
       "\\item 'bayes'\n",
       "\\item 'pascal'\n",
       "\\item 'pearson'\n",
       "\\end{enumerate}\n"
      ],
      "text/markdown": [
       "1. 'gauss'\n",
       "2. 'bayes'\n",
       "3. 'pascal'\n",
       "4. 'pearson'\n",
       "\n",
       "\n"
      ],
      "text/plain": [
       "[[1]]\n",
       "[1] \"gauss\"\n",
       "\n",
       "[[2]]\n",
       "[1] \"bayes\"\n",
       "\n",
       "[[3]]\n",
       "[1] \"pascal\"\n",
       "\n",
       "[[4]]\n",
       "[1] \"pearson\"\n"
      ]
     },
     "metadata": {},
     "output_type": "display_data"
    },
    {
     "data": {
      "text/html": [
       "<ol>\n",
       "\t<li>'1777'</li>\n",
       "\t<li>'1702'</li>\n",
       "\t<li>'1623'</li>\n",
       "\t<li>'1857'</li>\n",
       "</ol>\n"
      ],
      "text/latex": [
       "\\begin{enumerate}\n",
       "\\item '1777'\n",
       "\\item '1702'\n",
       "\\item '1623'\n",
       "\\item '1857'\n",
       "\\end{enumerate}\n"
      ],
      "text/markdown": [
       "1. '1777'\n",
       "2. '1702'\n",
       "3. '1623'\n",
       "4. '1857'\n",
       "\n",
       "\n"
      ],
      "text/plain": [
       "[[1]]\n",
       "[1] \"1777\"\n",
       "\n",
       "[[2]]\n",
       "[1] \"1702\"\n",
       "\n",
       "[[3]]\n",
       "[1] \"1623\"\n",
       "\n",
       "[[4]]\n",
       "[1] \"1857\"\n"
      ]
     },
     "metadata": {},
     "output_type": "display_data"
    }
   ],
   "source": [
    "# Definition of split_low\n",
    "pioneers <- c(\"GAUSS:1777\", \"BAYES:1702\", \"PASCAL:1623\", \"PEARSON:1857\")\n",
    "split <- strsplit(pioneers, split = \":\")\n",
    "split_low <- lapply(split, tolower)\n",
    "\n",
    "# Generic select function\n",
    "select_el <- function(x, index) {\n",
    "  x[index]\n",
    "}\n",
    "\n",
    "# Use lapply() twice on split_low: names and years\n",
    "\n",
    "names <- lapply(split_low, select_el, index = 1)\n",
    "years <- lapply(split_low, select_el, index = 2)\n",
    "\n",
    "#prints\n",
    "names\n",
    "years"
   ]
  },
  {
   "cell_type": "code",
   "execution_count": 28,
   "metadata": {},
   "outputs": [
    {
     "name": "stdout",
     "output_type": "stream",
     "text": [
      " num 1\n",
      " chr \"a\"\n",
      " logi TRUE\n"
     ]
    },
    {
     "data": {
      "text/html": [
       "<ol>\n",
       "\t<li>NULL</li>\n",
       "\t<li>NULL</li>\n",
       "\t<li>NULL</li>\n",
       "</ol>\n"
      ],
      "text/latex": [
       "\\begin{enumerate}\n",
       "\\item NULL\n",
       "\\item NULL\n",
       "\\item NULL\n",
       "\\end{enumerate}\n"
      ],
      "text/markdown": [
       "1. NULL\n",
       "2. NULL\n",
       "3. NULL\n",
       "\n",
       "\n"
      ],
      "text/plain": [
       "[[1]]\n",
       "NULL\n",
       "\n",
       "[[2]]\n",
       "NULL\n",
       "\n",
       "[[3]]\n",
       "NULL\n"
      ]
     },
     "metadata": {},
     "output_type": "display_data"
    }
   ],
   "source": [
    "# returns NULL here\n",
    "lapply(list(1, \"a\", TRUE), str)"
   ]
  },
  {
   "cell_type": "code",
   "execution_count": 29,
   "metadata": {},
   "outputs": [
    {
     "name": "stdout",
     "output_type": "stream",
     "text": [
      " logi TRUE\n"
     ]
    }
   ],
   "source": [
    "# but returns structure here\n",
    "str(TRUE)"
   ]
  },
  {
   "cell_type": "code",
   "execution_count": 30,
   "metadata": {},
   "outputs": [
    {
     "data": {
      "text/html": [
       "<ol>\n",
       "\t<li>'1777'</li>\n",
       "\t<li>'1702'</li>\n",
       "\t<li>NULL</li>\n",
       "\t<li>NULL</li>\n",
       "</ol>\n"
      ],
      "text/latex": [
       "\\begin{enumerate}\n",
       "\\item '1777'\n",
       "\\item '1702'\n",
       "\\item NULL\n",
       "\\item NULL\n",
       "\\end{enumerate}\n"
      ],
      "text/markdown": [
       "1. '1777'\n",
       "2. '1702'\n",
       "3. NULL\n",
       "4. NULL\n",
       "\n",
       "\n"
      ],
      "text/plain": [
       "[[1]]\n",
       "[1] \"1777\"\n",
       "\n",
       "[[2]]\n",
       "[1] \"1702\"\n",
       "\n",
       "[[3]]\n",
       "NULL\n",
       "\n",
       "[[4]]\n",
       "NULL\n"
      ]
     },
     "metadata": {},
     "output_type": "display_data"
    }
   ],
   "source": [
    "# lapply() always returns a list, no matter the input\n",
    "\n",
    "lapply(split_low, function(x) {\n",
    "  if (nchar(x[1]) > 5) {\n",
    "    return(NULL)\n",
    "  } else {\n",
    "    return(x[2])\n",
    "  }\n",
    "})"
   ]
  },
  {
   "cell_type": "code",
   "execution_count": 33,
   "metadata": {},
   "outputs": [
    {
     "data": {
      "text/html": [
       "<ol>\n",
       "\t<li>8</li>\n",
       "\t<li>5</li>\n",
       "\t<li>6</li>\n",
       "\t<li>5</li>\n",
       "\t<li>14</li>\n",
       "\t<li>9</li>\n",
       "</ol>\n"
      ],
      "text/latex": [
       "\\begin{enumerate}\n",
       "\\item 8\n",
       "\\item 5\n",
       "\\item 6\n",
       "\\item 5\n",
       "\\item 14\n",
       "\\item 9\n",
       "\\end{enumerate}\n"
      ],
      "text/markdown": [
       "1. 8\n",
       "2. 5\n",
       "3. 6\n",
       "4. 5\n",
       "5. 14\n",
       "6. 9\n",
       "\n",
       "\n"
      ],
      "text/plain": [
       "[[1]]\n",
       "[1] 8\n",
       "\n",
       "[[2]]\n",
       "[1] 5\n",
       "\n",
       "[[3]]\n",
       "[1] 6\n",
       "\n",
       "[[4]]\n",
       "[1] 5\n",
       "\n",
       "[[5]]\n",
       "[1] 14\n",
       "\n",
       "[[6]]\n",
       "[1] 9\n"
      ]
     },
     "metadata": {},
     "output_type": "display_data"
    }
   ],
   "source": [
    "#cities: sapply()\n",
    "cities <- c(\"New York\", \"Paris\", \"London\", \"Tokyo\", \"Rio de Janeiro\", \"Cape Town\")\n",
    "lapply(cities,nchar)"
   ]
  },
  {
   "cell_type": "code",
   "execution_count": 34,
   "metadata": {},
   "outputs": [
    {
     "data": {
      "text/html": [
       "<ol class=list-inline>\n",
       "\t<li>8</li>\n",
       "\t<li>5</li>\n",
       "\t<li>6</li>\n",
       "\t<li>5</li>\n",
       "\t<li>14</li>\n",
       "\t<li>9</li>\n",
       "</ol>\n"
      ],
      "text/latex": [
       "\\begin{enumerate*}\n",
       "\\item 8\n",
       "\\item 5\n",
       "\\item 6\n",
       "\\item 5\n",
       "\\item 14\n",
       "\\item 9\n",
       "\\end{enumerate*}\n"
      ],
      "text/markdown": [
       "1. 8\n",
       "2. 5\n",
       "3. 6\n",
       "4. 5\n",
       "5. 14\n",
       "6. 9\n",
       "\n",
       "\n"
      ],
      "text/plain": [
       "[1]  8  5  6  5 14  9"
      ]
     },
     "metadata": {},
     "output_type": "display_data"
    }
   ],
   "source": [
    "unlist(lapply(cities,nchar))"
   ]
  },
  {
   "cell_type": "code",
   "execution_count": 35,
   "metadata": {},
   "outputs": [
    {
     "data": {
      "text/html": [
       "<dl class=dl-horizontal>\n",
       "\t<dt>New York</dt>\n",
       "\t\t<dd>8</dd>\n",
       "\t<dt>Paris</dt>\n",
       "\t\t<dd>5</dd>\n",
       "\t<dt>London</dt>\n",
       "\t\t<dd>6</dd>\n",
       "\t<dt>Tokyo</dt>\n",
       "\t\t<dd>5</dd>\n",
       "\t<dt>Rio de Janeiro</dt>\n",
       "\t\t<dd>14</dd>\n",
       "\t<dt>Cape Town</dt>\n",
       "\t\t<dd>9</dd>\n",
       "</dl>\n"
      ],
      "text/latex": [
       "\\begin{description*}\n",
       "\\item[New York] 8\n",
       "\\item[Paris] 5\n",
       "\\item[London] 6\n",
       "\\item[Tokyo] 5\n",
       "\\item[Rio de Janeiro] 14\n",
       "\\item[Cape Town] 9\n",
       "\\end{description*}\n"
      ],
      "text/markdown": [
       "New York\n",
       ":   8Paris\n",
       ":   5London\n",
       ":   6Tokyo\n",
       ":   5Rio de Janeiro\n",
       ":   14Cape Town\n",
       ":   9\n",
       "\n"
      ],
      "text/plain": [
       "      New York          Paris         London          Tokyo Rio de Janeiro \n",
       "             8              5              6              5             14 \n",
       "     Cape Town \n",
       "             9 "
      ]
     },
     "metadata": {},
     "output_type": "display_data"
    }
   ],
   "source": [
    "sapply(cities,nchar)"
   ]
  },
  {
   "cell_type": "code",
   "execution_count": 36,
   "metadata": {},
   "outputs": [
    {
     "data": {
      "text/html": [
       "<ol class=list-inline>\n",
       "\t<li>8</li>\n",
       "\t<li>5</li>\n",
       "\t<li>6</li>\n",
       "\t<li>5</li>\n",
       "\t<li>14</li>\n",
       "\t<li>9</li>\n",
       "</ol>\n"
      ],
      "text/latex": [
       "\\begin{enumerate*}\n",
       "\\item 8\n",
       "\\item 5\n",
       "\\item 6\n",
       "\\item 5\n",
       "\\item 14\n",
       "\\item 9\n",
       "\\end{enumerate*}\n"
      ],
      "text/markdown": [
       "1. 8\n",
       "2. 5\n",
       "3. 6\n",
       "4. 5\n",
       "5. 14\n",
       "6. 9\n",
       "\n",
       "\n"
      ],
      "text/plain": [
       "[1]  8  5  6  5 14  9"
      ]
     },
     "metadata": {},
     "output_type": "display_data"
    }
   ],
   "source": [
    "sapply(cities, nchar, USE.NAMES = FALSE)"
   ]
  },
  {
   "cell_type": "code",
   "execution_count": 40,
   "metadata": {},
   "outputs": [
    {
     "data": {
      "text/html": [
       "<dl class=dl-horizontal>\n",
       "\t<dt>first</dt>\n",
       "\t\t<dd>'e'</dd>\n",
       "\t<dt>last</dt>\n",
       "\t\t<dd>'Y'</dd>\n",
       "</dl>\n"
      ],
      "text/latex": [
       "\\begin{description*}\n",
       "\\item[first] 'e'\n",
       "\\item[last] 'Y'\n",
       "\\end{description*}\n"
      ],
      "text/markdown": [
       "first\n",
       ":   'e'last\n",
       ":   'Y'\n",
       "\n"
      ],
      "text/plain": [
       "first  last \n",
       "  \"e\"   \"Y\" "
      ]
     },
     "metadata": {},
     "output_type": "display_data"
    }
   ],
   "source": [
    "first_and_last <- function(name) {\n",
    "    name <- gsub(\" \", \"\", name) #\"\" makes first = ''; have to use \" \"\n",
    "    letters <- strsplit(name, split = \"\")[[1]]\n",
    "    c(first = min(letters), last = max(letters))\n",
    "}\n",
    "first_and_last('New York')\n",
    "\n",
    "#first and last letter in the alphabet of name"
   ]
  },
  {
   "cell_type": "code",
   "execution_count": 41,
   "metadata": {},
   "outputs": [
    {
     "data": {
      "text/html": [
       "<table>\n",
       "<thead><tr><th></th><th scope=col>New York</th><th scope=col>Paris</th><th scope=col>London</th><th scope=col>Tokyo</th><th scope=col>Rio de Janeiro</th><th scope=col>Cape Town</th></tr></thead>\n",
       "<tbody>\n",
       "\t<tr><th scope=row>first</th><td>e</td><td>a</td><td>d</td><td>k</td><td>a</td><td>a</td></tr>\n",
       "\t<tr><th scope=row>last</th><td>Y</td><td>s</td><td>o</td><td>y</td><td>R</td><td>w</td></tr>\n",
       "</tbody>\n",
       "</table>\n"
      ],
      "text/latex": [
       "\\begin{tabular}{r|llllll}\n",
       "  & New York & Paris & London & Tokyo & Rio de Janeiro & Cape Town\\\\\n",
       "\\hline\n",
       "\tfirst & e & a & d & k & a & a\\\\\n",
       "\tlast & Y & s & o & y & R & w\\\\\n",
       "\\end{tabular}\n"
      ],
      "text/markdown": [
       "\n",
       "| <!--/--> | New York | Paris | London | Tokyo | Rio de Janeiro | Cape Town | \n",
       "|---|---|\n",
       "| first | e | a | d | k | a | a | \n",
       "| last | Y | s | o | y | R | w | \n",
       "\n",
       "\n"
      ],
      "text/plain": [
       "      New York Paris London Tokyo Rio de Janeiro Cape Town\n",
       "first e        a     d      k     a              a        \n",
       "last  Y        s     o      y     R              w        "
      ]
     },
     "metadata": {},
     "output_type": "display_data"
    }
   ],
   "source": [
    "sapply(cities, first_and_last)"
   ]
  },
  {
   "cell_type": "code",
   "execution_count": 55,
   "metadata": {},
   "outputs": [],
   "source": [
    "temp <- list(c(3,7,9,6, -1), c(6,9,12,13,5), c(4,8,3,-1,-3), c(1,4,7,2,-2), c(5,7,9,4,2), c(-3,5,8,9,4), c(3,6,9,4,1))"
   ]
  },
  {
   "cell_type": "code",
   "execution_count": 69,
   "metadata": {},
   "outputs": [
    {
     "data": {
      "text/html": [
       "<ol>\n",
       "\t<li><ol class=list-inline>\n",
       "\t<li>3</li>\n",
       "\t<li>7</li>\n",
       "\t<li>9</li>\n",
       "\t<li>6</li>\n",
       "\t<li>-1</li>\n",
       "</ol>\n",
       "</li>\n",
       "\t<li><ol class=list-inline>\n",
       "\t<li>6</li>\n",
       "\t<li>9</li>\n",
       "\t<li>12</li>\n",
       "\t<li>13</li>\n",
       "\t<li>5</li>\n",
       "</ol>\n",
       "</li>\n",
       "\t<li><ol class=list-inline>\n",
       "\t<li>4</li>\n",
       "\t<li>8</li>\n",
       "\t<li>3</li>\n",
       "\t<li>-1</li>\n",
       "\t<li>-3</li>\n",
       "</ol>\n",
       "</li>\n",
       "\t<li><ol class=list-inline>\n",
       "\t<li>1</li>\n",
       "\t<li>4</li>\n",
       "\t<li>7</li>\n",
       "\t<li>2</li>\n",
       "\t<li>-2</li>\n",
       "</ol>\n",
       "</li>\n",
       "\t<li><ol class=list-inline>\n",
       "\t<li>5</li>\n",
       "\t<li>7</li>\n",
       "\t<li>9</li>\n",
       "\t<li>4</li>\n",
       "\t<li>2</li>\n",
       "</ol>\n",
       "</li>\n",
       "\t<li><ol class=list-inline>\n",
       "\t<li>-3</li>\n",
       "\t<li>5</li>\n",
       "\t<li>8</li>\n",
       "\t<li>9</li>\n",
       "\t<li>4</li>\n",
       "</ol>\n",
       "</li>\n",
       "\t<li><ol class=list-inline>\n",
       "\t<li>3</li>\n",
       "\t<li>6</li>\n",
       "\t<li>9</li>\n",
       "\t<li>4</li>\n",
       "\t<li>1</li>\n",
       "</ol>\n",
       "</li>\n",
       "</ol>\n"
      ],
      "text/latex": [
       "\\begin{enumerate}\n",
       "\\item \\begin{enumerate*}\n",
       "\\item 3\n",
       "\\item 7\n",
       "\\item 9\n",
       "\\item 6\n",
       "\\item -1\n",
       "\\end{enumerate*}\n",
       "\n",
       "\\item \\begin{enumerate*}\n",
       "\\item 6\n",
       "\\item 9\n",
       "\\item 12\n",
       "\\item 13\n",
       "\\item 5\n",
       "\\end{enumerate*}\n",
       "\n",
       "\\item \\begin{enumerate*}\n",
       "\\item 4\n",
       "\\item 8\n",
       "\\item 3\n",
       "\\item -1\n",
       "\\item -3\n",
       "\\end{enumerate*}\n",
       "\n",
       "\\item \\begin{enumerate*}\n",
       "\\item 1\n",
       "\\item 4\n",
       "\\item 7\n",
       "\\item 2\n",
       "\\item -2\n",
       "\\end{enumerate*}\n",
       "\n",
       "\\item \\begin{enumerate*}\n",
       "\\item 5\n",
       "\\item 7\n",
       "\\item 9\n",
       "\\item 4\n",
       "\\item 2\n",
       "\\end{enumerate*}\n",
       "\n",
       "\\item \\begin{enumerate*}\n",
       "\\item -3\n",
       "\\item 5\n",
       "\\item 8\n",
       "\\item 9\n",
       "\\item 4\n",
       "\\end{enumerate*}\n",
       "\n",
       "\\item \\begin{enumerate*}\n",
       "\\item 3\n",
       "\\item 6\n",
       "\\item 9\n",
       "\\item 4\n",
       "\\item 1\n",
       "\\end{enumerate*}\n",
       "\n",
       "\\end{enumerate}\n"
      ],
      "text/markdown": [
       "1. 1. 3\n",
       "2. 7\n",
       "3. 9\n",
       "4. 6\n",
       "5. -1\n",
       "\n",
       "\n",
       "\n",
       "2. 1. 6\n",
       "2. 9\n",
       "3. 12\n",
       "4. 13\n",
       "5. 5\n",
       "\n",
       "\n",
       "\n",
       "3. 1. 4\n",
       "2. 8\n",
       "3. 3\n",
       "4. -1\n",
       "5. -3\n",
       "\n",
       "\n",
       "\n",
       "4. 1. 1\n",
       "2. 4\n",
       "3. 7\n",
       "4. 2\n",
       "5. -2\n",
       "\n",
       "\n",
       "\n",
       "5. 1. 5\n",
       "2. 7\n",
       "3. 9\n",
       "4. 4\n",
       "5. 2\n",
       "\n",
       "\n",
       "\n",
       "6. 1. -3\n",
       "2. 5\n",
       "3. 8\n",
       "4. 9\n",
       "5. 4\n",
       "\n",
       "\n",
       "\n",
       "7. 1. 3\n",
       "2. 6\n",
       "3. 9\n",
       "4. 4\n",
       "5. 1\n",
       "\n",
       "\n",
       "\n",
       "\n",
       "\n"
      ],
      "text/plain": [
       "[[1]]\n",
       "[1]  3  7  9  6 -1\n",
       "\n",
       "[[2]]\n",
       "[1]  6  9 12 13  5\n",
       "\n",
       "[[3]]\n",
       "[1]  4  8  3 -1 -3\n",
       "\n",
       "[[4]]\n",
       "[1]  1  4  7  2 -2\n",
       "\n",
       "[[5]]\n",
       "[1] 5 7 9 4 2\n",
       "\n",
       "[[6]]\n",
       "[1] -3  5  8  9  4\n",
       "\n",
       "[[7]]\n",
       "[1] 3 6 9 4 1\n"
      ]
     },
     "metadata": {},
     "output_type": "display_data"
    }
   ],
   "source": [
    "temp"
   ]
  },
  {
   "cell_type": "code",
   "execution_count": 57,
   "metadata": {},
   "outputs": [
    {
     "name": "stdout",
     "output_type": "stream",
     "text": [
      "List of 7\n",
      " $ : num [1:5] 3 7 9 6 -1\n",
      " $ : num [1:5] 6 9 12 13 5\n",
      " $ : num [1:5] 4 8 3 -1 -3\n",
      " $ : num [1:5] 1 4 7 2 -2\n",
      " $ : num [1:5] 5 7 9 4 2\n",
      " $ : num [1:5] -3 5 8 9 4\n",
      " $ : num [1:5] 3 6 9 4 1\n"
     ]
    },
    {
     "data": {
      "text/html": [
       "<ol>\n",
       "\t<li>-1</li>\n",
       "\t<li>5</li>\n",
       "\t<li>-3</li>\n",
       "\t<li>-2</li>\n",
       "\t<li>2</li>\n",
       "\t<li>-3</li>\n",
       "\t<li>1</li>\n",
       "</ol>\n"
      ],
      "text/latex": [
       "\\begin{enumerate}\n",
       "\\item -1\n",
       "\\item 5\n",
       "\\item -3\n",
       "\\item -2\n",
       "\\item 2\n",
       "\\item -3\n",
       "\\item 1\n",
       "\\end{enumerate}\n"
      ],
      "text/markdown": [
       "1. -1\n",
       "2. 5\n",
       "3. -3\n",
       "4. -2\n",
       "5. 2\n",
       "6. -3\n",
       "7. 1\n",
       "\n",
       "\n"
      ],
      "text/plain": [
       "[[1]]\n",
       "[1] -1\n",
       "\n",
       "[[2]]\n",
       "[1] 5\n",
       "\n",
       "[[3]]\n",
       "[1] -3\n",
       "\n",
       "[[4]]\n",
       "[1] -2\n",
       "\n",
       "[[5]]\n",
       "[1] 2\n",
       "\n",
       "[[6]]\n",
       "[1] -3\n",
       "\n",
       "[[7]]\n",
       "[1] 1\n"
      ]
     },
     "metadata": {},
     "output_type": "display_data"
    },
    {
     "data": {
      "text/html": [
       "<ol class=list-inline>\n",
       "\t<li>-1</li>\n",
       "\t<li>5</li>\n",
       "\t<li>-3</li>\n",
       "\t<li>-2</li>\n",
       "\t<li>2</li>\n",
       "\t<li>-3</li>\n",
       "\t<li>1</li>\n",
       "</ol>\n"
      ],
      "text/latex": [
       "\\begin{enumerate*}\n",
       "\\item -1\n",
       "\\item 5\n",
       "\\item -3\n",
       "\\item -2\n",
       "\\item 2\n",
       "\\item -3\n",
       "\\item 1\n",
       "\\end{enumerate*}\n"
      ],
      "text/markdown": [
       "1. -1\n",
       "2. 5\n",
       "3. -3\n",
       "4. -2\n",
       "5. 2\n",
       "6. -3\n",
       "7. 1\n",
       "\n",
       "\n"
      ],
      "text/plain": [
       "[1] -1  5 -3 -2  2 -3  1"
      ]
     },
     "metadata": {},
     "output_type": "display_data"
    },
    {
     "data": {
      "text/html": [
       "<ol>\n",
       "\t<li>9</li>\n",
       "\t<li>13</li>\n",
       "\t<li>8</li>\n",
       "\t<li>7</li>\n",
       "\t<li>9</li>\n",
       "\t<li>9</li>\n",
       "\t<li>9</li>\n",
       "</ol>\n"
      ],
      "text/latex": [
       "\\begin{enumerate}\n",
       "\\item 9\n",
       "\\item 13\n",
       "\\item 8\n",
       "\\item 7\n",
       "\\item 9\n",
       "\\item 9\n",
       "\\item 9\n",
       "\\end{enumerate}\n"
      ],
      "text/markdown": [
       "1. 9\n",
       "2. 13\n",
       "3. 8\n",
       "4. 7\n",
       "5. 9\n",
       "6. 9\n",
       "7. 9\n",
       "\n",
       "\n"
      ],
      "text/plain": [
       "[[1]]\n",
       "[1] 9\n",
       "\n",
       "[[2]]\n",
       "[1] 13\n",
       "\n",
       "[[3]]\n",
       "[1] 8\n",
       "\n",
       "[[4]]\n",
       "[1] 7\n",
       "\n",
       "[[5]]\n",
       "[1] 9\n",
       "\n",
       "[[6]]\n",
       "[1] 9\n",
       "\n",
       "[[7]]\n",
       "[1] 9\n"
      ]
     },
     "metadata": {},
     "output_type": "display_data"
    },
    {
     "data": {
      "text/html": [
       "<ol class=list-inline>\n",
       "\t<li>9</li>\n",
       "\t<li>13</li>\n",
       "\t<li>8</li>\n",
       "\t<li>7</li>\n",
       "\t<li>9</li>\n",
       "\t<li>9</li>\n",
       "\t<li>9</li>\n",
       "</ol>\n"
      ],
      "text/latex": [
       "\\begin{enumerate*}\n",
       "\\item 9\n",
       "\\item 13\n",
       "\\item 8\n",
       "\\item 7\n",
       "\\item 9\n",
       "\\item 9\n",
       "\\item 9\n",
       "\\end{enumerate*}\n"
      ],
      "text/markdown": [
       "1. 9\n",
       "2. 13\n",
       "3. 8\n",
       "4. 7\n",
       "5. 9\n",
       "6. 9\n",
       "7. 9\n",
       "\n",
       "\n"
      ],
      "text/plain": [
       "[1]  9 13  8  7  9  9  9"
      ]
     },
     "metadata": {},
     "output_type": "display_data"
    }
   ],
   "source": [
    "# sapply(X, FUN, ...)\n",
    "\n",
    "# temp has already been defined in the workspace\n",
    "str(temp)\n",
    "# Use lapply() to find each day's minimum temperature\n",
    "lapply(temp, min)\n",
    "\n",
    "# Use sapply() to find each day's minimum temperature\n",
    "sapply(temp,min)\n",
    "\n",
    "# Use lapply() to find each day's maximum temperature\n",
    "lapply(temp,max)\n",
    "\n",
    "# Use sapply() to find each day's maximum temperature\n",
    "sapply(temp,max)\n",
    "\n",
    "# https://campus.datacamp.com/courses/intermediate-r/chapter-4-the-apply-family?ex=8 "
   ]
  },
  {
   "cell_type": "code",
   "execution_count": 58,
   "metadata": {},
   "outputs": [
    {
     "data": {
      "text/html": [
       "<ol class=list-inline>\n",
       "\t<li>4</li>\n",
       "\t<li>9</li>\n",
       "\t<li>2.5</li>\n",
       "\t<li>2.5</li>\n",
       "\t<li>5.5</li>\n",
       "\t<li>3</li>\n",
       "\t<li>5</li>\n",
       "</ol>\n"
      ],
      "text/latex": [
       "\\begin{enumerate*}\n",
       "\\item 4\n",
       "\\item 9\n",
       "\\item 2.5\n",
       "\\item 2.5\n",
       "\\item 5.5\n",
       "\\item 3\n",
       "\\item 5\n",
       "\\end{enumerate*}\n"
      ],
      "text/markdown": [
       "1. 4\n",
       "2. 9\n",
       "3. 2.5\n",
       "4. 2.5\n",
       "5. 5.5\n",
       "6. 3\n",
       "7. 5\n",
       "\n",
       "\n"
      ],
      "text/plain": [
       "[1] 4.0 9.0 2.5 2.5 5.5 3.0 5.0"
      ]
     },
     "metadata": {},
     "output_type": "display_data"
    },
    {
     "data": {
      "text/html": [
       "<ol>\n",
       "\t<li>4</li>\n",
       "\t<li>9</li>\n",
       "\t<li>2.5</li>\n",
       "\t<li>2.5</li>\n",
       "\t<li>5.5</li>\n",
       "\t<li>3</li>\n",
       "\t<li>5</li>\n",
       "</ol>\n"
      ],
      "text/latex": [
       "\\begin{enumerate}\n",
       "\\item 4\n",
       "\\item 9\n",
       "\\item 2.5\n",
       "\\item 2.5\n",
       "\\item 5.5\n",
       "\\item 3\n",
       "\\item 5\n",
       "\\end{enumerate}\n"
      ],
      "text/markdown": [
       "1. 4\n",
       "2. 9\n",
       "3. 2.5\n",
       "4. 2.5\n",
       "5. 5.5\n",
       "6. 3\n",
       "7. 5\n",
       "\n",
       "\n"
      ],
      "text/plain": [
       "[[1]]\n",
       "[1] 4\n",
       "\n",
       "[[2]]\n",
       "[1] 9\n",
       "\n",
       "[[3]]\n",
       "[1] 2.5\n",
       "\n",
       "[[4]]\n",
       "[1] 2.5\n",
       "\n",
       "[[5]]\n",
       "[1] 5.5\n",
       "\n",
       "[[6]]\n",
       "[1] 3\n",
       "\n",
       "[[7]]\n",
       "[1] 5\n"
      ]
     },
     "metadata": {},
     "output_type": "display_data"
    }
   ],
   "source": [
    "# temp is already defined in the workspace\n",
    "\n",
    "# Finish function definition of extremes_avg\n",
    "extremes_avg <- function(x) {\n",
    "  (min(x) + max(x)) / 2\n",
    "}\n",
    "\n",
    "# Apply extremes_avg() over temp using sapply()\n",
    "sapply(temp, extremes_avg)\n",
    "\n",
    "# Apply extremes_avg() over temp using lapply()\n",
    "lapply(temp, extremes_avg)"
   ]
  },
  {
   "cell_type": "code",
   "execution_count": 60,
   "metadata": {},
   "outputs": [
    {
     "data": {
      "text/html": [
       "<table>\n",
       "<tbody>\n",
       "\t<tr><th scope=row>min</th><td>-1</td><td> 5</td><td>-3</td><td>-2</td><td>2 </td><td>-3</td><td>1 </td></tr>\n",
       "\t<tr><th scope=row>max</th><td> 9</td><td>13</td><td> 8</td><td> 7</td><td>9 </td><td> 9</td><td>9 </td></tr>\n",
       "</tbody>\n",
       "</table>\n"
      ],
      "text/latex": [
       "\\begin{tabular}{r|lllllll}\n",
       "\tmin & -1 &  5 & -3 & -2 & 2  & -3 & 1 \\\\\n",
       "\tmax &  9 & 13 &  8 &  7 & 9  &  9 & 9 \\\\\n",
       "\\end{tabular}\n"
      ],
      "text/markdown": [
       "\n",
       "| min | -1 |  5 | -3 | -2 | 2  | -3 | 1  | \n",
       "| max |  9 | 13 |  8 |  7 | 9  |  9 | 9  | \n",
       "\n",
       "\n"
      ],
      "text/plain": [
       "    [,1] [,2] [,3] [,4] [,5] [,6] [,7]\n",
       "min -1    5   -3   -2   2    -3   1   \n",
       "max  9   13    8    7   9     9   9   "
      ]
     },
     "metadata": {},
     "output_type": "display_data"
    },
    {
     "data": {
      "text/html": [
       "<ol>\n",
       "\t<li><dl class=dl-horizontal>\n",
       "\t<dt>min</dt>\n",
       "\t\t<dd>-1</dd>\n",
       "\t<dt>max</dt>\n",
       "\t\t<dd>9</dd>\n",
       "</dl>\n",
       "</li>\n",
       "\t<li><dl class=dl-horizontal>\n",
       "\t<dt>min</dt>\n",
       "\t\t<dd>5</dd>\n",
       "\t<dt>max</dt>\n",
       "\t\t<dd>13</dd>\n",
       "</dl>\n",
       "</li>\n",
       "\t<li><dl class=dl-horizontal>\n",
       "\t<dt>min</dt>\n",
       "\t\t<dd>-3</dd>\n",
       "\t<dt>max</dt>\n",
       "\t\t<dd>8</dd>\n",
       "</dl>\n",
       "</li>\n",
       "\t<li><dl class=dl-horizontal>\n",
       "\t<dt>min</dt>\n",
       "\t\t<dd>-2</dd>\n",
       "\t<dt>max</dt>\n",
       "\t\t<dd>7</dd>\n",
       "</dl>\n",
       "</li>\n",
       "\t<li><dl class=dl-horizontal>\n",
       "\t<dt>min</dt>\n",
       "\t\t<dd>2</dd>\n",
       "\t<dt>max</dt>\n",
       "\t\t<dd>9</dd>\n",
       "</dl>\n",
       "</li>\n",
       "\t<li><dl class=dl-horizontal>\n",
       "\t<dt>min</dt>\n",
       "\t\t<dd>-3</dd>\n",
       "\t<dt>max</dt>\n",
       "\t\t<dd>9</dd>\n",
       "</dl>\n",
       "</li>\n",
       "\t<li><dl class=dl-horizontal>\n",
       "\t<dt>min</dt>\n",
       "\t\t<dd>1</dd>\n",
       "\t<dt>max</dt>\n",
       "\t\t<dd>9</dd>\n",
       "</dl>\n",
       "</li>\n",
       "</ol>\n"
      ],
      "text/latex": [
       "\\begin{enumerate}\n",
       "\\item \\begin{description*}\n",
       "\\item[min] -1\n",
       "\\item[max] 9\n",
       "\\end{description*}\n",
       "\n",
       "\\item \\begin{description*}\n",
       "\\item[min] 5\n",
       "\\item[max] 13\n",
       "\\end{description*}\n",
       "\n",
       "\\item \\begin{description*}\n",
       "\\item[min] -3\n",
       "\\item[max] 8\n",
       "\\end{description*}\n",
       "\n",
       "\\item \\begin{description*}\n",
       "\\item[min] -2\n",
       "\\item[max] 7\n",
       "\\end{description*}\n",
       "\n",
       "\\item \\begin{description*}\n",
       "\\item[min] 2\n",
       "\\item[max] 9\n",
       "\\end{description*}\n",
       "\n",
       "\\item \\begin{description*}\n",
       "\\item[min] -3\n",
       "\\item[max] 9\n",
       "\\end{description*}\n",
       "\n",
       "\\item \\begin{description*}\n",
       "\\item[min] 1\n",
       "\\item[max] 9\n",
       "\\end{description*}\n",
       "\n",
       "\\end{enumerate}\n"
      ],
      "text/markdown": [
       "1. min\n",
       ":   -1max\n",
       ":   9\n",
       "\n",
       "\n",
       "2. min\n",
       ":   5max\n",
       ":   13\n",
       "\n",
       "\n",
       "3. min\n",
       ":   -3max\n",
       ":   8\n",
       "\n",
       "\n",
       "4. min\n",
       ":   -2max\n",
       ":   7\n",
       "\n",
       "\n",
       "5. min\n",
       ":   2max\n",
       ":   9\n",
       "\n",
       "\n",
       "6. min\n",
       ":   -3max\n",
       ":   9\n",
       "\n",
       "\n",
       "7. min\n",
       ":   1max\n",
       ":   9\n",
       "\n",
       "\n",
       "\n",
       "\n"
      ],
      "text/plain": [
       "[[1]]\n",
       "min max \n",
       " -1   9 \n",
       "\n",
       "[[2]]\n",
       "min max \n",
       "  5  13 \n",
       "\n",
       "[[3]]\n",
       "min max \n",
       " -3   8 \n",
       "\n",
       "[[4]]\n",
       "min max \n",
       " -2   7 \n",
       "\n",
       "[[5]]\n",
       "min max \n",
       "  2   9 \n",
       "\n",
       "[[6]]\n",
       "min max \n",
       " -3   9 \n",
       "\n",
       "[[7]]\n",
       "min max \n",
       "  1   9 \n"
      ]
     },
     "metadata": {},
     "output_type": "display_data"
    },
    {
     "data": {
      "text/html": [
       "<table>\n",
       "<tbody>\n",
       "\t<tr><th scope=row>min</th><td>-1</td><td> 5</td><td>-3</td><td>-2</td><td>2 </td><td>-3</td><td>1 </td></tr>\n",
       "\t<tr><th scope=row>max</th><td> 9</td><td>13</td><td> 8</td><td> 7</td><td>9 </td><td> 9</td><td>9 </td></tr>\n",
       "</tbody>\n",
       "</table>\n"
      ],
      "text/latex": [
       "\\begin{tabular}{r|lllllll}\n",
       "\tmin & -1 &  5 & -3 & -2 & 2  & -3 & 1 \\\\\n",
       "\tmax &  9 & 13 &  8 &  7 & 9  &  9 & 9 \\\\\n",
       "\\end{tabular}\n"
      ],
      "text/markdown": [
       "\n",
       "| min | -1 |  5 | -3 | -2 | 2  | -3 | 1  | \n",
       "| max |  9 | 13 |  8 |  7 | 9  |  9 | 9  | \n",
       "\n",
       "\n"
      ],
      "text/plain": [
       "    [,1] [,2] [,3] [,4] [,5] [,6] [,7]\n",
       "min -1    5   -3   -2   2    -3   1   \n",
       "max  9   13    8    7   9     9   9   "
      ]
     },
     "metadata": {},
     "output_type": "display_data"
    },
    {
     "data": {
      "text/html": [
       "<ol>\n",
       "\t<li><dl class=dl-horizontal>\n",
       "\t<dt>min</dt>\n",
       "\t\t<dd>-1</dd>\n",
       "\t<dt>max</dt>\n",
       "\t\t<dd>9</dd>\n",
       "</dl>\n",
       "</li>\n",
       "\t<li><dl class=dl-horizontal>\n",
       "\t<dt>min</dt>\n",
       "\t\t<dd>5</dd>\n",
       "\t<dt>max</dt>\n",
       "\t\t<dd>13</dd>\n",
       "</dl>\n",
       "</li>\n",
       "\t<li><dl class=dl-horizontal>\n",
       "\t<dt>min</dt>\n",
       "\t\t<dd>-3</dd>\n",
       "\t<dt>max</dt>\n",
       "\t\t<dd>8</dd>\n",
       "</dl>\n",
       "</li>\n",
       "\t<li><dl class=dl-horizontal>\n",
       "\t<dt>min</dt>\n",
       "\t\t<dd>-2</dd>\n",
       "\t<dt>max</dt>\n",
       "\t\t<dd>7</dd>\n",
       "</dl>\n",
       "</li>\n",
       "\t<li><dl class=dl-horizontal>\n",
       "\t<dt>min</dt>\n",
       "\t\t<dd>2</dd>\n",
       "\t<dt>max</dt>\n",
       "\t\t<dd>9</dd>\n",
       "</dl>\n",
       "</li>\n",
       "\t<li><dl class=dl-horizontal>\n",
       "\t<dt>min</dt>\n",
       "\t\t<dd>-3</dd>\n",
       "\t<dt>max</dt>\n",
       "\t\t<dd>9</dd>\n",
       "</dl>\n",
       "</li>\n",
       "\t<li><dl class=dl-horizontal>\n",
       "\t<dt>min</dt>\n",
       "\t\t<dd>1</dd>\n",
       "\t<dt>max</dt>\n",
       "\t\t<dd>9</dd>\n",
       "</dl>\n",
       "</li>\n",
       "</ol>\n"
      ],
      "text/latex": [
       "\\begin{enumerate}\n",
       "\\item \\begin{description*}\n",
       "\\item[min] -1\n",
       "\\item[max] 9\n",
       "\\end{description*}\n",
       "\n",
       "\\item \\begin{description*}\n",
       "\\item[min] 5\n",
       "\\item[max] 13\n",
       "\\end{description*}\n",
       "\n",
       "\\item \\begin{description*}\n",
       "\\item[min] -3\n",
       "\\item[max] 8\n",
       "\\end{description*}\n",
       "\n",
       "\\item \\begin{description*}\n",
       "\\item[min] -2\n",
       "\\item[max] 7\n",
       "\\end{description*}\n",
       "\n",
       "\\item \\begin{description*}\n",
       "\\item[min] 2\n",
       "\\item[max] 9\n",
       "\\end{description*}\n",
       "\n",
       "\\item \\begin{description*}\n",
       "\\item[min] -3\n",
       "\\item[max] 9\n",
       "\\end{description*}\n",
       "\n",
       "\\item \\begin{description*}\n",
       "\\item[min] 1\n",
       "\\item[max] 9\n",
       "\\end{description*}\n",
       "\n",
       "\\end{enumerate}\n"
      ],
      "text/markdown": [
       "1. min\n",
       ":   -1max\n",
       ":   9\n",
       "\n",
       "\n",
       "2. min\n",
       ":   5max\n",
       ":   13\n",
       "\n",
       "\n",
       "3. min\n",
       ":   -3max\n",
       ":   8\n",
       "\n",
       "\n",
       "4. min\n",
       ":   -2max\n",
       ":   7\n",
       "\n",
       "\n",
       "5. min\n",
       ":   2max\n",
       ":   9\n",
       "\n",
       "\n",
       "6. min\n",
       ":   -3max\n",
       ":   9\n",
       "\n",
       "\n",
       "7. min\n",
       ":   1max\n",
       ":   9\n",
       "\n",
       "\n",
       "\n",
       "\n"
      ],
      "text/plain": [
       "[[1]]\n",
       "min max \n",
       " -1   9 \n",
       "\n",
       "[[2]]\n",
       "min max \n",
       "  5  13 \n",
       "\n",
       "[[3]]\n",
       "min max \n",
       " -3   8 \n",
       "\n",
       "[[4]]\n",
       "min max \n",
       " -2   7 \n",
       "\n",
       "[[5]]\n",
       "min max \n",
       "  2   9 \n",
       "\n",
       "[[6]]\n",
       "min max \n",
       " -3   9 \n",
       "\n",
       "[[7]]\n",
       "min max \n",
       "  1   9 \n"
      ]
     },
     "metadata": {},
     "output_type": "display_data"
    }
   ],
   "source": [
    "# Create a function that returns min and max of a vector: extremes\n",
    "extremes <- function(x) {\n",
    "    c(min = min(x), max = max(x))\n",
    "  }\n",
    " \n",
    "# Apply extremes() over temp with sapply()\n",
    "\n",
    "sapply(temp, extremes)\n",
    "\n",
    "# Apply extremes() over temp with lapply()\n",
    "\n",
    "lapply(temp, extremes)\n",
    "\n",
    "# temp is already available in the workspace\n",
    " \n",
    "# Create a function that returns min and max of a vector: extremes\n",
    "extremes <- function(x) {\n",
    "    c(min = min(x), max = max(x))\n",
    "  }\n",
    "\n",
    "# Apply extremes() over temp with sapply()\n",
    "\n",
    "sapply(temp, extremes)\n",
    "\n",
    "# Apply extremes() over temp with lapply()\n",
    "\n",
    "lapply(temp, extremes)\n",
    "\n",
    "\n",
    "##sapply() did a great job at simplifying the rather uninformative 'list of vectors' that lapply() returns. It actually returned a nicely formatted matrix!"
   ]
  },
  {
   "cell_type": "code",
   "execution_count": 64,
   "metadata": {},
   "outputs": [],
   "source": [
    "# temp is already prepared for you in the workspace\n",
    "\n",
    "# Definition of below_zero()\n",
    "below_zero <- function(x) {\n",
    "    return(x[x < 0])\n",
    "  }\n",
    "\n",
    "# Apply below_zero over temp using sapply(): freezing_s\n",
    "freezing_s <- sapply(temp, below_zero)\n",
    "\n",
    "# Apply below_zero over temp using lapply(): freezing_l\n",
    "freezing_l <- lapply(temp, below_zero)"
   ]
  },
  {
   "cell_type": "code",
   "execution_count": 65,
   "metadata": {},
   "outputs": [
    {
     "data": {
      "text/html": [
       "<ol>\n",
       "\t<li>-1</li>\n",
       "\t<li></li>\n",
       "\t<li><ol class=list-inline>\n",
       "\t<li>-1</li>\n",
       "\t<li>-3</li>\n",
       "</ol>\n",
       "</li>\n",
       "\t<li>-2</li>\n",
       "\t<li></li>\n",
       "\t<li>-3</li>\n",
       "\t<li></li>\n",
       "</ol>\n"
      ],
      "text/latex": [
       "\\begin{enumerate}\n",
       "\\item -1\n",
       "\\item \n",
       "\\item \\begin{enumerate*}\n",
       "\\item -1\n",
       "\\item -3\n",
       "\\end{enumerate*}\n",
       "\n",
       "\\item -2\n",
       "\\item \n",
       "\\item -3\n",
       "\\item \n",
       "\\end{enumerate}\n"
      ],
      "text/markdown": [
       "1. -1\n",
       "2. \n",
       "3. 1. -1\n",
       "2. -3\n",
       "\n",
       "\n",
       "\n",
       "4. -2\n",
       "5. \n",
       "6. -3\n",
       "7. \n",
       "\n",
       "\n"
      ],
      "text/plain": [
       "[[1]]\n",
       "[1] -1\n",
       "\n",
       "[[2]]\n",
       "numeric(0)\n",
       "\n",
       "[[3]]\n",
       "[1] -1 -3\n",
       "\n",
       "[[4]]\n",
       "[1] -2\n",
       "\n",
       "[[5]]\n",
       "numeric(0)\n",
       "\n",
       "[[6]]\n",
       "[1] -3\n",
       "\n",
       "[[7]]\n",
       "numeric(0)\n"
      ]
     },
     "metadata": {},
     "output_type": "display_data"
    },
    {
     "data": {
      "text/html": [
       "<ol>\n",
       "\t<li>-1</li>\n",
       "\t<li></li>\n",
       "\t<li><ol class=list-inline>\n",
       "\t<li>-1</li>\n",
       "\t<li>-3</li>\n",
       "</ol>\n",
       "</li>\n",
       "\t<li>-2</li>\n",
       "\t<li></li>\n",
       "\t<li>-3</li>\n",
       "\t<li></li>\n",
       "</ol>\n"
      ],
      "text/latex": [
       "\\begin{enumerate}\n",
       "\\item -1\n",
       "\\item \n",
       "\\item \\begin{enumerate*}\n",
       "\\item -1\n",
       "\\item -3\n",
       "\\end{enumerate*}\n",
       "\n",
       "\\item -2\n",
       "\\item \n",
       "\\item -3\n",
       "\\item \n",
       "\\end{enumerate}\n"
      ],
      "text/markdown": [
       "1. -1\n",
       "2. \n",
       "3. 1. -1\n",
       "2. -3\n",
       "\n",
       "\n",
       "\n",
       "4. -2\n",
       "5. \n",
       "6. -3\n",
       "7. \n",
       "\n",
       "\n"
      ],
      "text/plain": [
       "[[1]]\n",
       "[1] -1\n",
       "\n",
       "[[2]]\n",
       "numeric(0)\n",
       "\n",
       "[[3]]\n",
       "[1] -1 -3\n",
       "\n",
       "[[4]]\n",
       "[1] -2\n",
       "\n",
       "[[5]]\n",
       "numeric(0)\n",
       "\n",
       "[[6]]\n",
       "[1] -3\n",
       "\n",
       "[[7]]\n",
       "numeric(0)\n"
      ]
     },
     "metadata": {},
     "output_type": "display_data"
    },
    {
     "data": {
      "text/html": [
       "TRUE"
      ],
      "text/latex": [
       "TRUE"
      ],
      "text/markdown": [
       "TRUE"
      ],
      "text/plain": [
       "[1] TRUE"
      ]
     },
     "metadata": {},
     "output_type": "display_data"
    }
   ],
   "source": [
    "#print\n",
    "\n",
    "freezing_l\n",
    "\n",
    "freezing_s\n",
    "\n",
    "# Are freezing_s and freezing_l identical?\n",
    "\n",
    "identical(freezing_l, freezing_s)\n",
    "\n",
    "## Given that the length of the output of below_zero() changes for different input vectors, sapply() is not able to nicely convert the output of lapply() to a nicely formatted matrix. Instead, the output values of sapply() and lapply() are exactly the same, as shown by the TRUE output of identical()"
   ]
  },
  {
   "cell_type": "code",
   "execution_count": 67,
   "metadata": {},
   "outputs": [
    {
     "name": "stdout",
     "output_type": "stream",
     "text": [
      "The average temperature is 4.8 \n",
      "The average temperature is 9 \n",
      "The average temperature is 2.2 \n",
      "The average temperature is 2.4 \n",
      "The average temperature is 5.4 \n",
      "The average temperature is 4.6 \n",
      "The average temperature is 4.6 \n"
     ]
    },
    {
     "data": {
      "text/html": [
       "<ol>\n",
       "\t<li>NULL</li>\n",
       "\t<li>NULL</li>\n",
       "\t<li>NULL</li>\n",
       "\t<li>NULL</li>\n",
       "\t<li>NULL</li>\n",
       "\t<li>NULL</li>\n",
       "\t<li>NULL</li>\n",
       "</ol>\n"
      ],
      "text/latex": [
       "\\begin{enumerate}\n",
       "\\item NULL\n",
       "\\item NULL\n",
       "\\item NULL\n",
       "\\item NULL\n",
       "\\item NULL\n",
       "\\item NULL\n",
       "\\item NULL\n",
       "\\end{enumerate}\n"
      ],
      "text/markdown": [
       "1. NULL\n",
       "2. NULL\n",
       "3. NULL\n",
       "4. NULL\n",
       "5. NULL\n",
       "6. NULL\n",
       "7. NULL\n",
       "\n",
       "\n"
      ],
      "text/plain": [
       "[[1]]\n",
       "NULL\n",
       "\n",
       "[[2]]\n",
       "NULL\n",
       "\n",
       "[[3]]\n",
       "NULL\n",
       "\n",
       "[[4]]\n",
       "NULL\n",
       "\n",
       "[[5]]\n",
       "NULL\n",
       "\n",
       "[[6]]\n",
       "NULL\n",
       "\n",
       "[[7]]\n",
       "NULL\n"
      ]
     },
     "metadata": {},
     "output_type": "display_data"
    },
    {
     "name": "stdout",
     "output_type": "stream",
     "text": [
      "The average temperature is 4.8 \n",
      "The average temperature is 9 \n",
      "The average temperature is 2.2 \n",
      "The average temperature is 2.4 \n",
      "The average temperature is 5.4 \n",
      "The average temperature is 4.6 \n",
      "The average temperature is 4.6 \n"
     ]
    },
    {
     "data": {
      "text/html": [
       "<ol>\n",
       "\t<li>NULL</li>\n",
       "\t<li>NULL</li>\n",
       "\t<li>NULL</li>\n",
       "\t<li>NULL</li>\n",
       "\t<li>NULL</li>\n",
       "\t<li>NULL</li>\n",
       "\t<li>NULL</li>\n",
       "</ol>\n"
      ],
      "text/latex": [
       "\\begin{enumerate}\n",
       "\\item NULL\n",
       "\\item NULL\n",
       "\\item NULL\n",
       "\\item NULL\n",
       "\\item NULL\n",
       "\\item NULL\n",
       "\\item NULL\n",
       "\\end{enumerate}\n"
      ],
      "text/markdown": [
       "1. NULL\n",
       "2. NULL\n",
       "3. NULL\n",
       "4. NULL\n",
       "5. NULL\n",
       "6. NULL\n",
       "7. NULL\n",
       "\n",
       "\n"
      ],
      "text/plain": [
       "[[1]]\n",
       "NULL\n",
       "\n",
       "[[2]]\n",
       "NULL\n",
       "\n",
       "[[3]]\n",
       "NULL\n",
       "\n",
       "[[4]]\n",
       "NULL\n",
       "\n",
       "[[5]]\n",
       "NULL\n",
       "\n",
       "[[6]]\n",
       "NULL\n",
       "\n",
       "[[7]]\n",
       "NULL\n"
      ]
     },
     "metadata": {},
     "output_type": "display_data"
    }
   ],
   "source": [
    "\n",
    "# In this exercise, you'll see how sapply() reacts when it is used to apply a function that returns NULL over a vector or a list.\n",
    "\n",
    "# Definition of print_info()\n",
    "print_info <- function(x) {\n",
    "    cat(\"The average temperature is\", mean(x), \"\\n\")\n",
    "  }\n",
    "\n",
    "# Apply print_info() over temp using sapply()\n",
    " \n",
    "sapply(temp, print_info)\n",
    "\n",
    "# Apply print_info() over temp using lapply()\n",
    "\n",
    "lapply(temp, print_info)\n",
    "\n",
    "# Notice here that, quite surprisingly, sapply() does not simplify the list of NULL's. That's because the 'vector-version' of a list of NULL's would simply be a NULL, which is no longer a vector with the same length as the input."
   ]
  },
  {
   "cell_type": "code",
   "execution_count": 68,
   "metadata": {},
   "outputs": [
    {
     "data": {
      "text/html": [
       "<ol>\n",
       "\t<li><ol class=list-inline>\n",
       "\t<li>3</li>\n",
       "\t<li>7</li>\n",
       "\t<li>9</li>\n",
       "\t<li>6</li>\n",
       "\t<li>-1</li>\n",
       "</ol>\n",
       "</li>\n",
       "\t<li><ol class=list-inline>\n",
       "\t<li>6</li>\n",
       "\t<li>9</li>\n",
       "\t<li>12</li>\n",
       "\t<li>13</li>\n",
       "\t<li>5</li>\n",
       "</ol>\n",
       "</li>\n",
       "\t<li><ol class=list-inline>\n",
       "\t<li>4</li>\n",
       "\t<li>8</li>\n",
       "\t<li>3</li>\n",
       "\t<li>-1</li>\n",
       "\t<li>-3</li>\n",
       "</ol>\n",
       "</li>\n",
       "\t<li><ol class=list-inline>\n",
       "\t<li>1</li>\n",
       "\t<li>4</li>\n",
       "\t<li>7</li>\n",
       "\t<li>2</li>\n",
       "\t<li>-2</li>\n",
       "</ol>\n",
       "</li>\n",
       "\t<li><ol class=list-inline>\n",
       "\t<li>5</li>\n",
       "\t<li>7</li>\n",
       "\t<li>9</li>\n",
       "\t<li>4</li>\n",
       "\t<li>2</li>\n",
       "</ol>\n",
       "</li>\n",
       "\t<li><ol class=list-inline>\n",
       "\t<li>-3</li>\n",
       "\t<li>5</li>\n",
       "\t<li>8</li>\n",
       "\t<li>9</li>\n",
       "\t<li>4</li>\n",
       "</ol>\n",
       "</li>\n",
       "\t<li><ol class=list-inline>\n",
       "\t<li>3</li>\n",
       "\t<li>6</li>\n",
       "\t<li>9</li>\n",
       "\t<li>4</li>\n",
       "\t<li>1</li>\n",
       "</ol>\n",
       "</li>\n",
       "</ol>\n"
      ],
      "text/latex": [
       "\\begin{enumerate}\n",
       "\\item \\begin{enumerate*}\n",
       "\\item 3\n",
       "\\item 7\n",
       "\\item 9\n",
       "\\item 6\n",
       "\\item -1\n",
       "\\end{enumerate*}\n",
       "\n",
       "\\item \\begin{enumerate*}\n",
       "\\item 6\n",
       "\\item 9\n",
       "\\item 12\n",
       "\\item 13\n",
       "\\item 5\n",
       "\\end{enumerate*}\n",
       "\n",
       "\\item \\begin{enumerate*}\n",
       "\\item 4\n",
       "\\item 8\n",
       "\\item 3\n",
       "\\item -1\n",
       "\\item -3\n",
       "\\end{enumerate*}\n",
       "\n",
       "\\item \\begin{enumerate*}\n",
       "\\item 1\n",
       "\\item 4\n",
       "\\item 7\n",
       "\\item 2\n",
       "\\item -2\n",
       "\\end{enumerate*}\n",
       "\n",
       "\\item \\begin{enumerate*}\n",
       "\\item 5\n",
       "\\item 7\n",
       "\\item 9\n",
       "\\item 4\n",
       "\\item 2\n",
       "\\end{enumerate*}\n",
       "\n",
       "\\item \\begin{enumerate*}\n",
       "\\item -3\n",
       "\\item 5\n",
       "\\item 8\n",
       "\\item 9\n",
       "\\item 4\n",
       "\\end{enumerate*}\n",
       "\n",
       "\\item \\begin{enumerate*}\n",
       "\\item 3\n",
       "\\item 6\n",
       "\\item 9\n",
       "\\item 4\n",
       "\\item 1\n",
       "\\end{enumerate*}\n",
       "\n",
       "\\end{enumerate}\n"
      ],
      "text/markdown": [
       "1. 1. 3\n",
       "2. 7\n",
       "3. 9\n",
       "4. 6\n",
       "5. -1\n",
       "\n",
       "\n",
       "\n",
       "2. 1. 6\n",
       "2. 9\n",
       "3. 12\n",
       "4. 13\n",
       "5. 5\n",
       "\n",
       "\n",
       "\n",
       "3. 1. 4\n",
       "2. 8\n",
       "3. 3\n",
       "4. -1\n",
       "5. -3\n",
       "\n",
       "\n",
       "\n",
       "4. 1. 1\n",
       "2. 4\n",
       "3. 7\n",
       "4. 2\n",
       "5. -2\n",
       "\n",
       "\n",
       "\n",
       "5. 1. 5\n",
       "2. 7\n",
       "3. 9\n",
       "4. 4\n",
       "5. 2\n",
       "\n",
       "\n",
       "\n",
       "6. 1. -3\n",
       "2. 5\n",
       "3. 8\n",
       "4. 9\n",
       "5. 4\n",
       "\n",
       "\n",
       "\n",
       "7. 1. 3\n",
       "2. 6\n",
       "3. 9\n",
       "4. 4\n",
       "5. 1\n",
       "\n",
       "\n",
       "\n",
       "\n",
       "\n"
      ],
      "text/plain": [
       "[[1]]\n",
       "[1]  3  7  9  6 -1\n",
       "\n",
       "[[2]]\n",
       "[1]  6  9 12 13  5\n",
       "\n",
       "[[3]]\n",
       "[1]  4  8  3 -1 -3\n",
       "\n",
       "[[4]]\n",
       "[1]  1  4  7  2 -2\n",
       "\n",
       "[[5]]\n",
       "[1] 5 7 9 4 2\n",
       "\n",
       "[[6]]\n",
       "[1] -3  5  8  9  4\n",
       "\n",
       "[[7]]\n",
       "[1] 3 6 9 4 1\n"
      ]
     },
     "metadata": {},
     "output_type": "display_data"
    },
    {
     "data": {
      "text/html": [
       "<table>\n",
       "<tbody>\n",
       "\t<tr><th scope=row>min</th><td>-1.0</td><td> 5  </td><td>-3.0</td><td>-2.0</td><td>2.0 </td><td>-3.0</td><td>1.0 </td></tr>\n",
       "\t<tr><th scope=row>mean</th><td> 4.8</td><td> 9  </td><td> 2.2</td><td> 2.4</td><td>5.4 </td><td> 4.6</td><td>4.6 </td></tr>\n",
       "\t<tr><th scope=row>max</th><td> 9.0</td><td>13  </td><td> 8.0</td><td> 7.0</td><td>9.0 </td><td> 9.0</td><td>9.0 </td></tr>\n",
       "</tbody>\n",
       "</table>\n"
      ],
      "text/latex": [
       "\\begin{tabular}{r|lllllll}\n",
       "\tmin & -1.0 &  5   & -3.0 & -2.0 & 2.0  & -3.0 & 1.0 \\\\\n",
       "\tmean &  4.8 &  9   &  2.2 &  2.4 & 5.4  &  4.6 & 4.6 \\\\\n",
       "\tmax &  9.0 & 13   &  8.0 &  7.0 & 9.0  &  9.0 & 9.0 \\\\\n",
       "\\end{tabular}\n"
      ],
      "text/markdown": [
       "\n",
       "| min | -1.0 |  5   | -3.0 | -2.0 | 2.0  | -3.0 | 1.0  | \n",
       "| mean |  4.8 |  9   |  2.2 |  2.4 | 5.4  |  4.6 | 4.6  | \n",
       "| max |  9.0 | 13   |  8.0 |  7.0 | 9.0  |  9.0 | 9.0  | \n",
       "\n",
       "\n"
      ],
      "text/plain": [
       "     [,1] [,2] [,3] [,4] [,5] [,6] [,7]\n",
       "min  -1.0  5   -3.0 -2.0 2.0  -3.0 1.0 \n",
       "mean  4.8  9    2.2  2.4 5.4   4.6 4.6 \n",
       "max   9.0 13    8.0  7.0 9.0   9.0 9.0 "
      ]
     },
     "metadata": {},
     "output_type": "display_data"
    }
   ],
   "source": [
    "# temp is already available in the workspace\n",
    "temp\n",
    "\n",
    "# Definition of basics()\n",
    "basics <- function(x) {\n",
    "    c(min = min(x), mean = mean(x), max = max(x))\n",
    "  }\n",
    " \n",
    "# Apply basics() over temp using vapply()\n",
    "\n",
    "vapply(temp, basics, numeric(3))"
   ]
  },
  {
   "cell_type": "code",
   "execution_count": 71,
   "metadata": {},
   "outputs": [
    {
     "data": {
      "text/html": [
       "<table>\n",
       "<tbody>\n",
       "\t<tr><th scope=row>min</th><td>-1.0</td><td> 5  </td><td>-3.0</td><td>-2.0</td><td>2.0 </td><td>-3.0</td><td>1.0 </td></tr>\n",
       "\t<tr><th scope=row>mean</th><td> 4.8</td><td> 9  </td><td> 2.2</td><td> 2.4</td><td>5.4 </td><td> 4.6</td><td>4.6 </td></tr>\n",
       "\t<tr><th scope=row>max</th><td> 9.0</td><td>13  </td><td> 8.0</td><td> 7.0</td><td>9.0 </td><td> 9.0</td><td>9.0 </td></tr>\n",
       "</tbody>\n",
       "</table>\n"
      ],
      "text/latex": [
       "\\begin{tabular}{r|lllllll}\n",
       "\tmin & -1.0 &  5   & -3.0 & -2.0 & 2.0  & -3.0 & 1.0 \\\\\n",
       "\tmean &  4.8 &  9   &  2.2 &  2.4 & 5.4  &  4.6 & 4.6 \\\\\n",
       "\tmax &  9.0 & 13   &  8.0 &  7.0 & 9.0  &  9.0 & 9.0 \\\\\n",
       "\\end{tabular}\n"
      ],
      "text/markdown": [
       "\n",
       "| min | -1.0 |  5   | -3.0 | -2.0 | 2.0  | -3.0 | 1.0  | \n",
       "| mean |  4.8 |  9   |  2.2 |  2.4 | 5.4  |  4.6 | 4.6  | \n",
       "| max |  9.0 | 13   |  8.0 |  7.0 | 9.0  |  9.0 | 9.0  | \n",
       "\n",
       "\n"
      ],
      "text/plain": [
       "     [,1] [,2] [,3] [,4] [,5] [,6] [,7]\n",
       "min  -1.0  5   -3.0 -2.0 2.0  -3.0 1.0 \n",
       "mean  4.8  9    2.2  2.4 5.4   4.6 4.6 \n",
       "max   9.0 13    8.0  7.0 9.0   9.0 9.0 "
      ]
     },
     "metadata": {},
     "output_type": "display_data"
    }
   ],
   "source": [
    "# temp is already available in the workspace\n",
    "\n",
    "# Definition of basics()\n",
    "basics <- function(x) {\n",
    "  c(min = min(x), mean = mean(x), max = max(x))\n",
    "}\n",
    "\n",
    "# Apply basics() over temp using vapply()\n",
    "# vapply(X, FUN, FUN.VALUE, ..., USE.NAMES = TRUE)\n",
    "vapply(temp, basics, numeric(3))"
   ]
  },
  {
   "cell_type": "code",
   "execution_count": 75,
   "metadata": {},
   "outputs": [
    {
     "name": "stdout",
     "output_type": "stream",
     "text": [
      " num [1:4, 1:7] -1 4.8 6 9 5 9 9 13 -3 2.2 ...\n",
      " - attr(*, \"dimnames\")=List of 2\n",
      "  ..$ : chr [1:4] \"min\" \"mean\" \"median\" \"max\"\n",
      "  ..$ : NULL\n"
     ]
    }
   ],
   "source": [
    "#Inspect code with str() \n",
    "\n",
    "# Definition of the basics() function\n",
    "basics <- function(x) {\n",
    "  c(min = min(x), mean = mean(x), median = median(x), max = max(x))\n",
    "}\n",
    "\n",
    "\n",
    "# Fix the error:\n",
    "\n",
    "# str(vapply(temp, basics, numeric(3)))\n",
    "\n",
    "# Error: values must be length 3, but FUN(X[[1]]) result is length 4\n",
    "\n",
    "\n",
    "str(vapply(temp, basics, numeric(4)))\n",
    "\n",
    "#"
   ]
  },
  {
   "cell_type": "code",
   "execution_count": null,
   "metadata": {},
   "outputs": [],
   "source": [
    "# vapply() can be considered a more robust version of sapply(), because you explicitly restrict the output of the function you want to apply. Converting your sapply() expressions in your own R scripts to vapply() expressions is therefore a good practice"
   ]
  },
  {
   "cell_type": "code",
   "execution_count": 77,
   "metadata": {},
   "outputs": [
    {
     "data": {
      "text/html": [
       "<ol class=list-inline>\n",
       "\t<li>9</li>\n",
       "\t<li>13</li>\n",
       "\t<li>8</li>\n",
       "\t<li>7</li>\n",
       "\t<li>9</li>\n",
       "\t<li>9</li>\n",
       "\t<li>9</li>\n",
       "</ol>\n"
      ],
      "text/latex": [
       "\\begin{enumerate*}\n",
       "\\item 9\n",
       "\\item 13\n",
       "\\item 8\n",
       "\\item 7\n",
       "\\item 9\n",
       "\\item 9\n",
       "\\item 9\n",
       "\\end{enumerate*}\n"
      ],
      "text/markdown": [
       "1. 9\n",
       "2. 13\n",
       "3. 8\n",
       "4. 7\n",
       "5. 9\n",
       "6. 9\n",
       "7. 9\n",
       "\n",
       "\n"
      ],
      "text/plain": [
       "[1]  9 13  8  7  9  9  9"
      ]
     },
     "metadata": {},
     "output_type": "display_data"
    },
    {
     "data": {
      "text/html": [
       "<ol class=list-inline>\n",
       "\t<li>9</li>\n",
       "\t<li>13</li>\n",
       "\t<li>8</li>\n",
       "\t<li>7</li>\n",
       "\t<li>9</li>\n",
       "\t<li>9</li>\n",
       "\t<li>9</li>\n",
       "</ol>\n"
      ],
      "text/latex": [
       "\\begin{enumerate*}\n",
       "\\item 9\n",
       "\\item 13\n",
       "\\item 8\n",
       "\\item 7\n",
       "\\item 9\n",
       "\\item 9\n",
       "\\item 9\n",
       "\\end{enumerate*}\n"
      ],
      "text/markdown": [
       "1. 9\n",
       "2. 13\n",
       "3. 8\n",
       "4. 7\n",
       "5. 9\n",
       "6. 9\n",
       "7. 9\n",
       "\n",
       "\n"
      ],
      "text/plain": [
       "[1]  9 13  8  7  9  9  9"
      ]
     },
     "metadata": {},
     "output_type": "display_data"
    },
    {
     "data": {
      "text/html": [
       "<ol class=list-inline>\n",
       "\t<li>FALSE</li>\n",
       "\t<li>TRUE</li>\n",
       "\t<li>FALSE</li>\n",
       "\t<li>FALSE</li>\n",
       "\t<li>TRUE</li>\n",
       "\t<li>FALSE</li>\n",
       "\t<li>FALSE</li>\n",
       "</ol>\n"
      ],
      "text/latex": [
       "\\begin{enumerate*}\n",
       "\\item FALSE\n",
       "\\item TRUE\n",
       "\\item FALSE\n",
       "\\item FALSE\n",
       "\\item TRUE\n",
       "\\item FALSE\n",
       "\\item FALSE\n",
       "\\end{enumerate*}\n"
      ],
      "text/markdown": [
       "1. FALSE\n",
       "2. TRUE\n",
       "3. FALSE\n",
       "4. FALSE\n",
       "5. TRUE\n",
       "6. FALSE\n",
       "7. FALSE\n",
       "\n",
       "\n"
      ],
      "text/plain": [
       "[1] FALSE  TRUE FALSE FALSE  TRUE FALSE FALSE"
      ]
     },
     "metadata": {},
     "output_type": "display_data"
    },
    {
     "data": {
      "text/html": [
       "<ol class=list-inline>\n",
       "\t<li>FALSE</li>\n",
       "\t<li>TRUE</li>\n",
       "\t<li>FALSE</li>\n",
       "\t<li>FALSE</li>\n",
       "\t<li>TRUE</li>\n",
       "\t<li>FALSE</li>\n",
       "\t<li>FALSE</li>\n",
       "</ol>\n"
      ],
      "text/latex": [
       "\\begin{enumerate*}\n",
       "\\item FALSE\n",
       "\\item TRUE\n",
       "\\item FALSE\n",
       "\\item FALSE\n",
       "\\item TRUE\n",
       "\\item FALSE\n",
       "\\item FALSE\n",
       "\\end{enumerate*}\n"
      ],
      "text/markdown": [
       "1. FALSE\n",
       "2. TRUE\n",
       "3. FALSE\n",
       "4. FALSE\n",
       "5. TRUE\n",
       "6. FALSE\n",
       "7. FALSE\n",
       "\n",
       "\n"
      ],
      "text/plain": [
       "[1] FALSE  TRUE FALSE FALSE  TRUE FALSE FALSE"
      ]
     },
     "metadata": {},
     "output_type": "display_data"
    }
   ],
   "source": [
    "#Convert all the sapply() expressions to their vapply() counterparts. Their results should be exactly the same; you're only adding robustness. You'll need the templates numeric(1) and logical(1).\n",
    "\n",
    "# Convert to vapply() expression\n",
    "sapply(temp, max)\n",
    "vapply(temp, max, numeric(1))\n",
    "\n",
    "# Convert to vapply() expression\n",
    "sapply(temp, function(x, y) { mean(x) > y }, y = 5)\n",
    "vapply(temp, function(x, y) { mean(x) > y }, y = 5, logical(1))"
   ]
  }
 ],
 "metadata": {
  "kernelspec": {
   "display_name": "R",
   "language": "R",
   "name": "ir"
  },
  "language_info": {
   "codemirror_mode": "r",
   "file_extension": ".r",
   "mimetype": "text/x-r-source",
   "name": "R",
   "pygments_lexer": "r",
   "version": "3.5.0"
  }
 },
 "nbformat": 4,
 "nbformat_minor": 2
}
