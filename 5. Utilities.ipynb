{
 "cells": [
  {
   "cell_type": "code",
   "execution_count": 1,
   "metadata": {},
   "outputs": [],
   "source": [
    "#abs(): Calculate the absolute value.\n",
    "#sum(): Calculate the sum of all the values in a data structure.\n",
    "#mean(): Calculate the arithmetic mean.\n",
    "#round(): Round the values to 0 decimal places by default. Try out ?round in the console for variations of round() and ways to change the number of digits to round to."
   ]
  },
  {
   "cell_type": "code",
   "execution_count": 2,
   "metadata": {},
   "outputs": [
    {
     "data": {
      "text/html": [
       "29"
      ],
      "text/latex": [
       "29"
      ],
      "text/markdown": [
       "29"
      ],
      "text/plain": [
       "[1] 29"
      ]
     },
     "metadata": {},
     "output_type": "display_data"
    }
   ],
   "source": [
    "# The errors vector has already been defined for you\n",
    "errors <- c(1.9, -2.6, 4.0, -9.5, -3.4, 7.3)\n",
    "\n",
    "# Sum of absolute rounded values of errors\n",
    "\n",
    "sum(round(abs(errors)))"
   ]
  },
  {
   "cell_type": "code",
   "execution_count": 1,
   "metadata": {},
   "outputs": [],
   "source": [
    "# seq(): Generate sequences, by specifying the from, to, and by arguments.\n",
    "# rep(): Replicate elements of vectors and lists.\n",
    "# sort(): Sort a vector in ascending order. Works on numerics, but also on character strings and logicals.\n",
    "# rev(): Reverse the elements in a data structures for which reversal is defined.\n",
    "# str(): Display the structure of any R object.\n",
    "# append(): Merge vectors or lists.\n",
    "# is.*(): Check for the class of an R object.\n",
    "# as.*(): Convert an R object from one class to another.\n",
    "# unlist(): Flatten (possibly embedded) lists to produce a vector."
   ]
  },
  {
   "cell_type": "code",
   "execution_count": 3,
   "metadata": {},
   "outputs": [
    {
     "data": {
      "text/html": [
       "<ol class=list-inline>\n",
       "\t<li>17</li>\n",
       "\t<li>17</li>\n",
       "\t<li>16</li>\n",
       "\t<li>16</li>\n",
       "\t<li>14</li>\n",
       "\t<li>14</li>\n",
       "\t<li>13</li>\n",
       "\t<li>13</li>\n",
       "\t<li>9</li>\n",
       "\t<li>8</li>\n",
       "\t<li>7</li>\n",
       "\t<li>5</li>\n",
       "\t<li>5</li>\n",
       "\t<li>2</li>\n",
       "</ol>\n"
      ],
      "text/latex": [
       "\\begin{enumerate*}\n",
       "\\item 17\n",
       "\\item 17\n",
       "\\item 16\n",
       "\\item 16\n",
       "\\item 14\n",
       "\\item 14\n",
       "\\item 13\n",
       "\\item 13\n",
       "\\item 9\n",
       "\\item 8\n",
       "\\item 7\n",
       "\\item 5\n",
       "\\item 5\n",
       "\\item 2\n",
       "\\end{enumerate*}\n"
      ],
      "text/markdown": [
       "1. 17\n",
       "2. 17\n",
       "3. 16\n",
       "4. 16\n",
       "5. 14\n",
       "6. 14\n",
       "7. 13\n",
       "8. 13\n",
       "9. 9\n",
       "10. 8\n",
       "11. 7\n",
       "12. 5\n",
       "13. 5\n",
       "14. 2\n",
       "\n",
       "\n"
      ],
      "text/plain": [
       " [1] 17 17 16 16 14 14 13 13  9  8  7  5  5  2"
      ]
     },
     "metadata": {},
     "output_type": "display_data"
    },
    {
     "data": {
      "text/html": [
       "<ol class=list-inline>\n",
       "\t<li>17</li>\n",
       "\t<li>7</li>\n",
       "\t<li>5</li>\n",
       "\t<li>16</li>\n",
       "\t<li>8</li>\n",
       "\t<li>13</li>\n",
       "\t<li>14</li>\n",
       "\t<li>16</li>\n",
       "\t<li>9</li>\n",
       "\t<li>13</li>\n",
       "\t<li>5</li>\n",
       "\t<li>2</li>\n",
       "\t<li>17</li>\n",
       "\t<li>14</li>\n",
       "</ol>\n"
      ],
      "text/latex": [
       "\\begin{enumerate*}\n",
       "\\item 17\n",
       "\\item 7\n",
       "\\item 5\n",
       "\\item 16\n",
       "\\item 8\n",
       "\\item 13\n",
       "\\item 14\n",
       "\\item 16\n",
       "\\item 9\n",
       "\\item 13\n",
       "\\item 5\n",
       "\\item 2\n",
       "\\item 17\n",
       "\\item 14\n",
       "\\end{enumerate*}\n"
      ],
      "text/markdown": [
       "1. 17\n",
       "2. 7\n",
       "3. 5\n",
       "4. 16\n",
       "5. 8\n",
       "6. 13\n",
       "7. 14\n",
       "8. 16\n",
       "9. 9\n",
       "10. 13\n",
       "11. 5\n",
       "12. 2\n",
       "13. 17\n",
       "14. 14\n",
       "\n",
       "\n"
      ],
      "text/plain": [
       " [1] 17  7  5 16  8 13 14 16  9 13  5  2 17 14"
      ]
     },
     "metadata": {},
     "output_type": "display_data"
    }
   ],
   "source": [
    "# The linkedin and facebook lists have already been created for you\n",
    "linkedin <- list(16, 9, 13, 5, 2, 17, 14)\n",
    "facebook <- list(17, 7, 5, 16, 8, 13, 14)\n",
    "\n",
    "# Convert linkedin and facebook to a vector: li_vec and fb_vec\n",
    "\n",
    "li_vec <- unlist(linkedin)\n",
    "fb_vec <- unlist(facebook)\n",
    "\n",
    "\n",
    "# Append fb_vec to li_vec: social_vec\n",
    "\n",
    "social_vec <- append(fb_vec, li_vec)\n",
    "\n",
    "# Sort social_vec\n",
    "\n",
    "sort(social_vec, decreasing = TRUE)\n",
    "social_vec"
   ]
  },
  {
   "cell_type": "code",
   "execution_count": 4,
   "metadata": {},
   "outputs": [
    {
     "data": {
      "text/html": [
       "<ol class=list-inline>\n",
       "\t<li>1</li>\n",
       "\t<li>3</li>\n",
       "\t<li>5</li>\n",
       "\t<li>7</li>\n",
       "\t<li>1</li>\n",
       "\t<li>3</li>\n",
       "\t<li>5</li>\n",
       "\t<li>7</li>\n",
       "\t<li>1</li>\n",
       "\t<li>3</li>\n",
       "\t<li>5</li>\n",
       "\t<li>7</li>\n",
       "\t<li>1</li>\n",
       "\t<li>3</li>\n",
       "\t<li>5</li>\n",
       "\t<li>7</li>\n",
       "\t<li>1</li>\n",
       "\t<li>3</li>\n",
       "\t<li>5</li>\n",
       "\t<li>7</li>\n",
       "\t<li>1</li>\n",
       "\t<li>3</li>\n",
       "\t<li>5</li>\n",
       "\t<li>7</li>\n",
       "\t<li>1</li>\n",
       "\t<li>3</li>\n",
       "\t<li>5</li>\n",
       "\t<li>7</li>\n",
       "</ol>\n"
      ],
      "text/latex": [
       "\\begin{enumerate*}\n",
       "\\item 1\n",
       "\\item 3\n",
       "\\item 5\n",
       "\\item 7\n",
       "\\item 1\n",
       "\\item 3\n",
       "\\item 5\n",
       "\\item 7\n",
       "\\item 1\n",
       "\\item 3\n",
       "\\item 5\n",
       "\\item 7\n",
       "\\item 1\n",
       "\\item 3\n",
       "\\item 5\n",
       "\\item 7\n",
       "\\item 1\n",
       "\\item 3\n",
       "\\item 5\n",
       "\\item 7\n",
       "\\item 1\n",
       "\\item 3\n",
       "\\item 5\n",
       "\\item 7\n",
       "\\item 1\n",
       "\\item 3\n",
       "\\item 5\n",
       "\\item 7\n",
       "\\end{enumerate*}\n"
      ],
      "text/markdown": [
       "1. 1\n",
       "2. 3\n",
       "3. 5\n",
       "4. 7\n",
       "5. 1\n",
       "6. 3\n",
       "7. 5\n",
       "8. 7\n",
       "9. 1\n",
       "10. 3\n",
       "11. 5\n",
       "12. 7\n",
       "13. 1\n",
       "14. 3\n",
       "15. 5\n",
       "16. 7\n",
       "17. 1\n",
       "18. 3\n",
       "19. 5\n",
       "20. 7\n",
       "21. 1\n",
       "22. 3\n",
       "23. 5\n",
       "24. 7\n",
       "25. 1\n",
       "26. 3\n",
       "27. 5\n",
       "28. 7\n",
       "\n",
       "\n"
      ],
      "text/plain": [
       " [1] 1 3 5 7 1 3 5 7 1 3 5 7 1 3 5 7 1 3 5 7 1 3 5 7 1 3 5 7"
      ]
     },
     "metadata": {},
     "output_type": "display_data"
    }
   ],
   "source": [
    "# Fix me\n",
    "#seq(rep(1, 7, by = 2), times = 7)\n",
    "rep(seq(1, 7, by = 2), times = 7)"
   ]
  },
  {
   "cell_type": "code",
   "execution_count": 5,
   "metadata": {},
   "outputs": [
    {
     "data": {
      "text/html": [
       "87029"
      ],
      "text/latex": [
       "87029"
      ],
      "text/markdown": [
       "87029"
      ],
      "text/plain": [
       "[1] 87029"
      ]
     },
     "metadata": {},
     "output_type": "display_data"
    }
   ],
   "source": [
    "# Create first sequence: seq1\n",
    "seq1 <- seq(1, 500, by = 3)\n",
    "\n",
    "# Create second sequence: seq2\n",
    "seq2 <- seq(1200, 900, by = -7)\n",
    "\n",
    "# Calculate total sum of the sequences\n",
    "# Calculate the total sum of the sequences, either by using the sum() function twice and adding the two results, or by first concatenating the sequences and then using the sum() function once. \n",
    "sum(append(seq1, seq2))"
   ]
  },
  {
   "cell_type": "code",
   "execution_count": 9,
   "metadata": {},
   "outputs": [],
   "source": [
    "?grepl\n",
    "#search for matches to argument pattern within each element of a character vector\n",
    "#grepl(pattern, x, ignore.case = FALSE, perl = FALSE, fixed = FALSE, useBytes = FALSE)\n",
    "#where pattern is the element you want to match and x is the vector"
   ]
  },
  {
   "cell_type": "code",
   "execution_count": 8,
   "metadata": {},
   "outputs": [],
   "source": [
    "?regex \n",
    "#regular expressions; The metacharacters in extended regular expressions are . \\ | ( ) [ { ^ $ * + ?, but note that whether these have a special meaning depends on the context."
   ]
  },
  {
   "cell_type": "code",
   "execution_count": null,
   "metadata": {},
   "outputs": [],
   "source": [
    "grepl()"
   ]
  },
  {
   "cell_type": "code",
   "execution_count": 10,
   "metadata": {},
   "outputs": [
    {
     "data": {
      "text/html": [
       "<ol class=list-inline>\n",
       "\t<li>TRUE</li>\n",
       "\t<li>TRUE</li>\n",
       "\t<li>FALSE</li>\n",
       "\t<li>TRUE</li>\n",
       "\t<li>TRUE</li>\n",
       "\t<li>FALSE</li>\n",
       "</ol>\n"
      ],
      "text/latex": [
       "\\begin{enumerate*}\n",
       "\\item TRUE\n",
       "\\item TRUE\n",
       "\\item FALSE\n",
       "\\item TRUE\n",
       "\\item TRUE\n",
       "\\item FALSE\n",
       "\\end{enumerate*}\n"
      ],
      "text/markdown": [
       "1. TRUE\n",
       "2. TRUE\n",
       "3. FALSE\n",
       "4. TRUE\n",
       "5. TRUE\n",
       "6. FALSE\n",
       "\n",
       "\n"
      ],
      "text/plain": [
       "[1]  TRUE  TRUE FALSE  TRUE  TRUE FALSE"
      ]
     },
     "metadata": {},
     "output_type": "display_data"
    },
    {
     "data": {
      "text/html": [
       "<ol class=list-inline>\n",
       "\t<li>1</li>\n",
       "\t<li>2</li>\n",
       "\t<li>4</li>\n",
       "\t<li>5</li>\n",
       "</ol>\n"
      ],
      "text/latex": [
       "\\begin{enumerate*}\n",
       "\\item 1\n",
       "\\item 2\n",
       "\\item 4\n",
       "\\item 5\n",
       "\\end{enumerate*}\n"
      ],
      "text/markdown": [
       "1. 1\n",
       "2. 2\n",
       "3. 4\n",
       "4. 5\n",
       "\n",
       "\n"
      ],
      "text/plain": [
       "[1] 1 2 4 5"
      ]
     },
     "metadata": {},
     "output_type": "display_data"
    },
    {
     "data": {
      "text/html": [
       "<ol class=list-inline>\n",
       "\t<li>'john.doe@ivyleague.edu'</li>\n",
       "\t<li>'education@world.gov'</li>\n",
       "\t<li>'invalid.edu'</li>\n",
       "\t<li>'quant@bigdatacollege.edu'</li>\n",
       "</ol>\n"
      ],
      "text/latex": [
       "\\begin{enumerate*}\n",
       "\\item 'john.doe@ivyleague.edu'\n",
       "\\item 'education@world.gov'\n",
       "\\item 'invalid.edu'\n",
       "\\item 'quant@bigdatacollege.edu'\n",
       "\\end{enumerate*}\n"
      ],
      "text/markdown": [
       "1. 'john.doe@ivyleague.edu'\n",
       "2. 'education@world.gov'\n",
       "3. 'invalid.edu'\n",
       "4. 'quant@bigdatacollege.edu'\n",
       "\n",
       "\n"
      ],
      "text/plain": [
       "[1] \"john.doe@ivyleague.edu\"   \"education@world.gov\"     \n",
       "[3] \"invalid.edu\"              \"quant@bigdatacollege.edu\""
      ]
     },
     "metadata": {},
     "output_type": "display_data"
    }
   ],
   "source": [
    "# The emails vector has already been defined for you\n",
    "emails <- c(\"john.doe@ivyleague.edu\", \"education@world.gov\", \"dalai.lama@peace.org\",\n",
    "            \"invalid.edu\", \"quant@bigdatacollege.edu\", \"cookie.monster@sesame.tv\")\n",
    "\n",
    "# Use grepl() to match for \"edu\"\n",
    "# grepl returns TRUE/FALSE for every element\n",
    "grepl(\"edu\", emails)\n",
    "\n",
    "# Use grep() to match for \"edu\", save result to hits\n",
    "# grep returns the element number where the pattern occurs\n",
    "hits <- grep(\"edu\", emails)\n",
    "hits\n",
    "\n",
    "# Subset emails using hits\n",
    "emails[hits]"
   ]
  },
  {
   "cell_type": "code",
   "execution_count": 11,
   "metadata": {},
   "outputs": [],
   "source": [
    "# You can use the caret, ^, and the dollar sign, $ to match the content located in the start and end of a string, respectively. \n",
    "# @, because a valid email must contain an at-sign.\n",
    "# .*, which matches any character (.) zero or more times (*). Both the dot and the asterisk are metacharacters. You can use them to match any character between the at-sign and the \".edu\" portion of an email address.\n",
    "# \\\\.edu$, to match the \".edu\" part of the email at the end of the string. The \\\\ part escapes the dot: it tells R that you want to use the . as an actual character."
   ]
  },
  {
   "cell_type": "code",
   "execution_count": 12,
   "metadata": {},
   "outputs": [
    {
     "data": {
      "text/html": [
       "<ol class=list-inline>\n",
       "\t<li>TRUE</li>\n",
       "\t<li>FALSE</li>\n",
       "\t<li>FALSE</li>\n",
       "\t<li>FALSE</li>\n",
       "\t<li>TRUE</li>\n",
       "\t<li>FALSE</li>\n",
       "</ol>\n"
      ],
      "text/latex": [
       "\\begin{enumerate*}\n",
       "\\item TRUE\n",
       "\\item FALSE\n",
       "\\item FALSE\n",
       "\\item FALSE\n",
       "\\item TRUE\n",
       "\\item FALSE\n",
       "\\end{enumerate*}\n"
      ],
      "text/markdown": [
       "1. TRUE\n",
       "2. FALSE\n",
       "3. FALSE\n",
       "4. FALSE\n",
       "5. TRUE\n",
       "6. FALSE\n",
       "\n",
       "\n"
      ],
      "text/plain": [
       "[1]  TRUE FALSE FALSE FALSE  TRUE FALSE"
      ]
     },
     "metadata": {},
     "output_type": "display_data"
    },
    {
     "data": {
      "text/html": [
       "<ol class=list-inline>\n",
       "\t<li>'john.doe@ivyleague.edu'</li>\n",
       "\t<li>'quant@bigdatacollege.edu'</li>\n",
       "</ol>\n"
      ],
      "text/latex": [
       "\\begin{enumerate*}\n",
       "\\item 'john.doe@ivyleague.edu'\n",
       "\\item 'quant@bigdatacollege.edu'\n",
       "\\end{enumerate*}\n"
      ],
      "text/markdown": [
       "1. 'john.doe@ivyleague.edu'\n",
       "2. 'quant@bigdatacollege.edu'\n",
       "\n",
       "\n"
      ],
      "text/plain": [
       "[1] \"john.doe@ivyleague.edu\"   \"quant@bigdatacollege.edu\""
      ]
     },
     "metadata": {},
     "output_type": "display_data"
    }
   ],
   "source": [
    "# The emails vector has already been defined for you\n",
    "emails <- c(\"john.doe@ivyleague.edu\", \"education@world.gov\", \"dalai.lama@peace.org\",\n",
    "            \"invalid.edu\", \"quant@bigdatacollege.edu\", \"cookie.monster@sesame.tv\")\n",
    "\n",
    "# Use grepl() to match for .edu addresses more robustly\n",
    "grepl(\"@.*\\\\.edu$\", emails)\n",
    "\n",
    "# Use grep() to match for .edu addresses more robustly, save result to hits\n",
    "hits <- grep(\"@.*\\\\.edu$\", emails)\n",
    "\n",
    "# Subset emails using hits\n",
    "emails[hits]"
   ]
  },
  {
   "cell_type": "code",
   "execution_count": 13,
   "metadata": {},
   "outputs": [],
   "source": [
    "# While grep() and grepl() were used to simply check whether a regular\n",
    "# expression could be matched with a character vector, sub() and gsub() take it\n",
    "# one step further: you can specify a replacement argument. If inside the\n",
    "# character vector x, the regular expression pattern is found, the matching\n",
    "# element(s) will be replaced with replacement.sub() only replaces the first\n",
    "# match, whereas gsub() replaces all matches."
   ]
  },
  {
   "cell_type": "code",
   "execution_count": 14,
   "metadata": {},
   "outputs": [],
   "source": [
    "# sub()\n",
    "# sub(pattern, replacement, x, ignore.case = FALSE, perl = FALSE, fixed = FALSE, useBytes = FALSE)"
   ]
  },
  {
   "cell_type": "code",
   "execution_count": 16,
   "metadata": {},
   "outputs": [
    {
     "data": {
      "text/html": [
       "<ol class=list-inline>\n",
       "\t<li>'john.doe@datacamp.edu'</li>\n",
       "\t<li>'education@world.gov'</li>\n",
       "\t<li>'global@peace.org'</li>\n",
       "\t<li>'invalid.edu'</li>\n",
       "\t<li>'quant@datacamp.edu'</li>\n",
       "\t<li>'cookie.monster@sesame.tv'</li>\n",
       "</ol>\n"
      ],
      "text/latex": [
       "\\begin{enumerate*}\n",
       "\\item 'john.doe@datacamp.edu'\n",
       "\\item 'education@world.gov'\n",
       "\\item 'global@peace.org'\n",
       "\\item 'invalid.edu'\n",
       "\\item 'quant@datacamp.edu'\n",
       "\\item 'cookie.monster@sesame.tv'\n",
       "\\end{enumerate*}\n"
      ],
      "text/markdown": [
       "1. 'john.doe@datacamp.edu'\n",
       "2. 'education@world.gov'\n",
       "3. 'global@peace.org'\n",
       "4. 'invalid.edu'\n",
       "5. 'quant@datacamp.edu'\n",
       "6. 'cookie.monster@sesame.tv'\n",
       "\n",
       "\n"
      ],
      "text/plain": [
       "[1] \"john.doe@datacamp.edu\"    \"education@world.gov\"     \n",
       "[3] \"global@peace.org\"         \"invalid.edu\"             \n",
       "[5] \"quant@datacamp.edu\"       \"cookie.monster@sesame.tv\""
      ]
     },
     "metadata": {},
     "output_type": "display_data"
    }
   ],
   "source": [
    "# With the advanced regular expression \"@.*\\\\.edu$\", use sub() to replace the match with \"@datacamp.edu\". Since there will only be one match per character string, gsub() is not necessary here. Inspect the resulting output.\n",
    "\n",
    "# The emails vector has already been defined for you\n",
    "emails <- c(\"john.doe@ivyleague.edu\", \"education@world.gov\", \"global@peace.org\",\n",
    "            \"invalid.edu\", \"quant@bigdatacollege.edu\", \"cookie.monster@sesame.tv\")\n",
    "\n",
    "# Use sub() to convert the email domains to datacamp.edu\n",
    "sub(\"@.*\\\\.edu$\", \"@datacamp.edu\", emails)\n",
    "\n",
    "# Notice how only the valid .edu addresses are changed while the other emails remain unchanged. To get a taste of other things you can accomplish with regex, head over to the next exercise."
   ]
  },
  {
   "cell_type": "code",
   "execution_count": 17,
   "metadata": {},
   "outputs": [],
   "source": [
    "# .*: A usual suspect! It can be read as \"any character that is matched zero or more times\". \\\\s: Match a space. The \"s\" is normally a character, escaping it\n",
    "# (\\\\) makes it a metacharacter. [0-9]+: Match the numbers 0 to 9, at least once\n",
    "# (+). ([0-9]+): The parentheses are used to make parts of the matching string available to define the replacement. The \\\\1 in the replacement argument of\n",
    "# sub() gets set to the string that is captured by the regular expression [0-9]+."
   ]
  },
  {
   "cell_type": "code",
   "execution_count": 19,
   "metadata": {},
   "outputs": [
    {
     "data": {
      "text/html": [
       "<ol class=list-inline>\n",
       "\t<li>'Won 1 Oscar.'</li>\n",
       "\t<li>'24'</li>\n",
       "\t<li>'2'</li>\n",
       "\t<li>'3'</li>\n",
       "\t<li>'2'</li>\n",
       "\t<li>'1'</li>\n",
       "</ol>\n"
      ],
      "text/latex": [
       "\\begin{enumerate*}\n",
       "\\item 'Won 1 Oscar.'\n",
       "\\item '24'\n",
       "\\item '2'\n",
       "\\item '3'\n",
       "\\item '2'\n",
       "\\item '1'\n",
       "\\end{enumerate*}\n"
      ],
      "text/markdown": [
       "1. 'Won 1 Oscar.'\n",
       "2. '24'\n",
       "3. '2'\n",
       "4. '3'\n",
       "5. '2'\n",
       "6. '1'\n",
       "\n",
       "\n"
      ],
      "text/plain": [
       "[1] \"Won 1 Oscar.\" \"24\"           \"2\"            \"3\"            \"2\"           \n",
       "[6] \"1\"           "
      ]
     },
     "metadata": {},
     "output_type": "display_data"
    }
   ],
   "source": [
    "# a bit confusing but study the returns above\n",
    "# The ([0-9]+) selects the entire number that comes before the word “nomination” in the string, and the entire match gets replaced by this number because of the \\\\1 that reference to the content inside the parentheses.\n",
    "\n",
    "awards <- c(\"Won 1 Oscar.\",\n",
    "  \"Won 1 Oscar. Another 9 wins & 24 nominations.\",\n",
    "  \"1 win and 2 nominations.\",\n",
    "  \"2 wins & 3 nominations.\",\n",
    "  \"Nominated for 2 Golden Globes. 1 more win & 2 nominations.\",\n",
    "  \"4 wins & 1 nomination.\")\n",
    "\n",
    "sub(\".*\\\\s([0-9]+)\\\\snomination.*$\", \"\\\\1\", awards)"
   ]
  },
  {
   "cell_type": "code",
   "execution_count": 21,
   "metadata": {},
   "outputs": [
    {
     "data": {
      "text/html": [
       "<time datetime=\"2018-11-05\">2018-11-05</time>"
      ],
      "text/latex": [
       "2018-11-05"
      ],
      "text/markdown": [
       "2018-11-05"
      ],
      "text/plain": [
       "[1] \"2018-11-05\""
      ]
     },
     "metadata": {},
     "output_type": "display_data"
    }
   ],
   "source": [
    "today <- Sys.Date()\n",
    "today #my birthday!"
   ]
  },
  {
   "cell_type": "code",
   "execution_count": 22,
   "metadata": {},
   "outputs": [
    {
     "data": {
      "text/html": [
       "'Date'"
      ],
      "text/latex": [
       "'Date'"
      ],
      "text/markdown": [
       "'Date'"
      ],
      "text/plain": [
       "[1] \"Date\""
      ]
     },
     "metadata": {},
     "output_type": "display_data"
    }
   ],
   "source": [
    "class(today)"
   ]
  },
  {
   "cell_type": "code",
   "execution_count": 23,
   "metadata": {},
   "outputs": [
    {
     "data": {
      "text/plain": [
       "[1] \"2018-11-05 15:32:22 CST\""
      ]
     },
     "metadata": {},
     "output_type": "display_data"
    }
   ],
   "source": [
    "now <- Sys.time()\n",
    "now"
   ]
  },
  {
   "cell_type": "code",
   "execution_count": 24,
   "metadata": {},
   "outputs": [
    {
     "data": {
      "text/html": [
       "<time datetime=\"1988-11-05\">1988-11-05</time>"
      ],
      "text/latex": [
       "1988-11-05"
      ],
      "text/markdown": [
       "1988-11-05"
      ],
      "text/plain": [
       "[1] \"1988-11-05\""
      ]
     },
     "metadata": {},
     "output_type": "display_data"
    }
   ],
   "source": [
    "myDate <- as.Date(\"1988-11-05\")\n",
    "myDate"
   ]
  },
  {
   "cell_type": "code",
   "execution_count": 25,
   "metadata": {},
   "outputs": [
    {
     "data": {
      "text/html": [
       "'Date'"
      ],
      "text/latex": [
       "'Date'"
      ],
      "text/markdown": [
       "'Date'"
      ],
      "text/plain": [
       "[1] \"Date\""
      ]
     },
     "metadata": {},
     "output_type": "display_data"
    }
   ],
   "source": [
    "class(myDate)"
   ]
  },
  {
   "cell_type": "code",
   "execution_count": 26,
   "metadata": {},
   "outputs": [],
   "source": [
    "# In R, dates are represented by Date objects, while times are represented by POSIXct objects. \n",
    "# January in 1970. POSIXct objects on the other hand, store the number of seconds since the 1st of January in 1970.\n",
    "# The 1st of January in 1970 is the common origin for representing times and dates in a wide range of programming languages. There is no particular reason for this; it is a simple convention. Of course, it's also possible to create dates and times before 1970; the corresponding numerical values are simply negative in this case."
   ]
  },
  {
   "cell_type": "code",
   "execution_count": 28,
   "metadata": {},
   "outputs": [
    {
     "data": {
      "text/html": [
       "17840"
      ],
      "text/latex": [
       "17840"
      ],
      "text/markdown": [
       "17840"
      ],
      "text/plain": [
       "[1] 17840"
      ]
     },
     "metadata": {},
     "output_type": "display_data"
    },
    {
     "data": {
      "text/html": [
       "1541454158.19288"
      ],
      "text/latex": [
       "1541454158.19288"
      ],
      "text/markdown": [
       "1541454158.19288"
      ],
      "text/plain": [
       "[1] 1541454158"
      ]
     },
     "metadata": {},
     "output_type": "display_data"
    }
   ],
   "source": [
    "# Get the current date: today\n",
    "today <- Sys.Date()\n",
    "\n",
    "# See what today looks like under the hood\n",
    "# Under the hood, date objects store the number of days since the 1st of January in 1970. \n",
    "unclass(today)\n",
    "\n",
    "# Get the current time: now\n",
    "now <- Sys.time()\n",
    "\n",
    "# See what now looks like under the hood\n",
    "# POSIXct objects on the other hand, store the number of seconds since the 1st of January in 1970.\n",
    "unclass(now)"
   ]
  },
  {
   "cell_type": "code",
   "execution_count": 29,
   "metadata": {},
   "outputs": [],
   "source": [
    "# %Y: 4-digit year (1982)\n",
    "# %y: 2-digit year (82)\n",
    "# %m: 2-digit month (01)\n",
    "# %d: 2-digit day of the month (13)\n",
    "# %A: weekday (Wednesday)\n",
    "# %a: abbreviated weekday (Wed)\n",
    "# %B: month (January)\n",
    "# %b: abbreviated month (Jan)\n"
   ]
  },
  {
   "cell_type": "code",
   "execution_count": 30,
   "metadata": {},
   "outputs": [
    {
     "data": {
      "text/html": [
       "<time datetime=\"1982-01-13\">1982-01-13</time>"
      ],
      "text/latex": [
       "1982-01-13"
      ],
      "text/markdown": [
       "1982-01-13"
      ],
      "text/plain": [
       "[1] \"1982-01-13\""
      ]
     },
     "metadata": {},
     "output_type": "display_data"
    },
    {
     "data": {
      "text/html": [
       "<time datetime=\"1982-01-13\">1982-01-13</time>"
      ],
      "text/latex": [
       "1982-01-13"
      ],
      "text/markdown": [
       "1982-01-13"
      ],
      "text/plain": [
       "[1] \"1982-01-13\""
      ]
     },
     "metadata": {},
     "output_type": "display_data"
    },
    {
     "data": {
      "text/html": [
       "<time datetime=\"1982-01-13\">1982-01-13</time>"
      ],
      "text/latex": [
       "1982-01-13"
      ],
      "text/markdown": [
       "1982-01-13"
      ],
      "text/plain": [
       "[1] \"1982-01-13\""
      ]
     },
     "metadata": {},
     "output_type": "display_data"
    }
   ],
   "source": [
    "as.Date(\"1982-01-13\")\n",
    "# Notice that the first line here did not need a format argument, because by default R matches your character string to the formats \"%Y-%m-%d\" or \"%Y/%m/%d\".\n",
    "as.Date(\"Jan-13-82\", format = \"%b-%d-%y\")\n",
    "as.Date(\"13 January, 1982\", format = \"%d %B, %Y\")"
   ]
  },
  {
   "cell_type": "code",
   "execution_count": 32,
   "metadata": {},
   "outputs": [
    {
     "data": {
      "text/html": [
       "'05 November, 2018'"
      ],
      "text/latex": [
       "'05 November, 2018'"
      ],
      "text/markdown": [
       "'05 November, 2018'"
      ],
      "text/plain": [
       "[1] \"05 November, 2018\""
      ]
     },
     "metadata": {},
     "output_type": "display_data"
    },
    {
     "data": {
      "text/html": [
       "'Today is a Monday!'"
      ],
      "text/latex": [
       "'Today is a Monday!'"
      ],
      "text/markdown": [
       "'Today is a Monday!'"
      ],
      "text/plain": [
       "[1] \"Today is a Monday!\""
      ]
     },
     "metadata": {},
     "output_type": "display_data"
    }
   ],
   "source": [
    "# In addition to creating dates, you can also convert dates to character strings that use a different date notation. For this, you use the format() function. Try the following lines of code:\n",
    "today <- Sys.Date()\n",
    "format(Sys.Date(), format = \"%d %B, %Y\")\n",
    "format(Sys.Date(), format = \"Today is a %A!\")"
   ]
  },
  {
   "cell_type": "code",
   "execution_count": 36,
   "metadata": {},
   "outputs": [
    {
     "data": {
      "text/html": [
       "<time datetime=\"1996-05-23\">1996-05-23</time>"
      ],
      "text/latex": [
       "1996-05-23"
      ],
      "text/markdown": [
       "1996-05-23"
      ],
      "text/plain": [
       "[1] \"1996-05-23\""
      ]
     },
     "metadata": {},
     "output_type": "display_data"
    },
    {
     "data": {
      "text/html": [
       "<time datetime=\"2012-03-15\">2012-03-15</time>"
      ],
      "text/latex": [
       "2012-03-15"
      ],
      "text/markdown": [
       "2012-03-15"
      ],
      "text/plain": [
       "[1] \"2012-03-15\""
      ]
     },
     "metadata": {},
     "output_type": "display_data"
    },
    {
     "data": {
      "text/html": [
       "<time datetime=\"2006-01-30\">2006-01-30</time>"
      ],
      "text/latex": [
       "2006-01-30"
      ],
      "text/markdown": [
       "2006-01-30"
      ],
      "text/plain": [
       "[1] \"2006-01-30\""
      ]
     },
     "metadata": {},
     "output_type": "display_data"
    }
   ],
   "source": [
    "# Definition of character strings representing dates\n",
    "str1 <- \"May 23, '96\"\n",
    "str2 <- \"2012-03-15\"\n",
    "str3 <- \"30/January/2006\"\n",
    "\n",
    "# In the editor on the right, three character strings representing dates have\n",
    "# been created. Convert them to dates using as.Date(), and assign them to date1,\n",
    "# date2, and date3 respectively. The code for date1 is already included.\n",
    "\n",
    "# Convert the strings to dates: date1, date2, date3\n",
    "date1 <- as.Date(str1, format = \"%b %d, '%y\")\n",
    "date2 <- as.Date(str2)\n",
    "#For str2, you don't need to specify the format argument because str2 is in a standard format.\n",
    "date3 <- as.Date(str3, format = \"%d/%B/%Y\")\n",
    "\n",
    "#prints\n",
    "date1\n",
    "date2\n",
    "date3"
   ]
  },
  {
   "cell_type": "code",
   "execution_count": 37,
   "metadata": {},
   "outputs": [
    {
     "data": {
      "text/html": [
       "'Thursday'"
      ],
      "text/latex": [
       "'Thursday'"
      ],
      "text/markdown": [
       "'Thursday'"
      ],
      "text/plain": [
       "[1] \"Thursday\""
      ]
     },
     "metadata": {},
     "output_type": "display_data"
    },
    {
     "data": {
      "text/html": [
       "'15'"
      ],
      "text/latex": [
       "'15'"
      ],
      "text/markdown": [
       "'15'"
      ],
      "text/plain": [
       "[1] \"15\""
      ]
     },
     "metadata": {},
     "output_type": "display_data"
    },
    {
     "data": {
      "text/html": [
       "'Jan 2006'"
      ],
      "text/latex": [
       "'Jan 2006'"
      ],
      "text/markdown": [
       "'Jan 2006'"
      ],
      "text/plain": [
       "[1] \"Jan 2006\""
      ]
     },
     "metadata": {},
     "output_type": "display_data"
    }
   ],
   "source": [
    "# Extract useful information from the dates as character strings using format().\n",
    "# From the first date, select the weekday. From the second date, select the day\n",
    "# of the month. From the third date, you should select the abbreviated month and\n",
    "# the 4-digit year, separated by a space.\n",
    "\n",
    "# Convert dates to formatted strings\n",
    "format(date1, \"%A\")\n",
    "format(date2, \"%d\") \n",
    "#Have a look at the format() function for date2. You can use format(date2, \"%d\"). Make sure to print the result to the output.\n",
    "format(date3,\"%b %Y\")"
   ]
  },
  {
   "cell_type": "code",
   "execution_count": 38,
   "metadata": {},
   "outputs": [],
   "source": [
    "# Similar to working with dates, you can use as.POSIXct() to convert from a\n",
    "# character string to a POSIXct object, and format() to convert from a POSIXct\n",
    "# object to a character string. Again, you have a wide variety of symbols:\n",
    "#\n",
    "# %H: hours as a decimal number (00-23) %I: hours as a decimal number (01-12)\n",
    "# %M: minutes as a decimal number \n",
    "# %S: seconds as a decimal number \n",
    "# %T: shorthand notation for the typical format %H:%M:%S %p: AM/PM indicator \n",
    "# For a full list of conversion symbols, consult the strptime documentation in the console:\n",
    "\n",
    "# ?strptime\n",
    "\n",
    "# as.POSIXct() uses a default format to match character strings. In this case, it's %Y-%m-%d %H:%M:%S. \n",
    "# In this exercise, abstraction is made of different time zones."
   ]
  },
  {
   "cell_type": "code",
   "execution_count": 39,
   "metadata": {},
   "outputs": [
    {
     "data": {
      "text/html": [
       "'01'"
      ],
      "text/latex": [
       "'01'"
      ],
      "text/markdown": [
       "'01'"
      ],
      "text/plain": [
       "[1] \"01\""
      ]
     },
     "metadata": {},
     "output_type": "display_data"
    },
    {
     "data": {
      "text/html": [
       "'02:23 PM'"
      ],
      "text/latex": [
       "'02:23 PM'"
      ],
      "text/markdown": [
       "'02:23 PM'"
      ],
      "text/plain": [
       "[1] \"02:23 PM\""
      ]
     },
     "metadata": {},
     "output_type": "display_data"
    }
   ],
   "source": [
    "# Definition of character strings representing times\n",
    "str1 <- \"May 23, '96 hours:23 minutes:01 seconds:45\"\n",
    "str2 <- \"2012-3-12 14:23:08\"\n",
    "\n",
    "# Convert the strings to POSIXct objects: time1, time2\n",
    "time1 <- as.POSIXct(str1, format = \"%B %d, '%y hours:%H minutes:%M seconds:%S\")\n",
    "time2 <- as.POSIXct(str2)\n",
    "\n",
    "\n",
    "# Convert times to formatted strings\n",
    "\n",
    "#Using format(), create a string from time1 containing only the minutes.\n",
    "format(time1, format = \"%M\")\n",
    "\n",
    "#From time2, extract the hours and minutes as \"hours:minutes AM/PM\". Refer to the assignment text above to find the correct conversion symbols!\n",
    "format(time2, format = \"%I:%M %p\")"
   ]
  },
  {
   "cell_type": "code",
   "execution_count": 40,
   "metadata": {},
   "outputs": [
    {
     "ename": "ERROR",
     "evalue": "Error in eval(expr, envir, enclos): object 'day5' not found\n",
     "output_type": "error",
     "traceback": [
      "Error in eval(expr, envir, enclos): object 'day5' not found\nTraceback:\n"
     ]
    }
   ],
   "source": [
    "# NOT EXECUTABLE (code in DataCamp workspace)\n",
    "\n",
    "# day1, day2, day3, day4 and day5 are already available in the workspace\n",
    "\n",
    "# Difference between last and first pizza day\n",
    "#Calculate the number of days that passed between the last and the first day you ate pizza. Print the result.\n",
    "#diff(pizza[day1],pizza[day5])\n",
    "day5 - day1\n",
    "\n",
    "# Create vector pizza\n",
    "pizza <- c(day1, day2, day3, day4, day5)\n",
    "\n",
    "# Use the function diff() on pizza to calculate the differences between consecutive pizza days. Store the result in a new variable day_diff.\n",
    "# Create differences between consecutive pizza days: day_diff\n",
    "day_diff <- diff(pizza)\n",
    "day_diff\n",
    "\n",
    "# Average period between two consecutive pizza days\n",
    "mean(day_diff)"
   ]
  },
  {
   "cell_type": "code",
   "execution_count": 41,
   "metadata": {},
   "outputs": [
    {
     "data": {
      "text/plain": [
       "[1] \"2018-11-05 17:22:04 CST\""
      ]
     },
     "metadata": {},
     "output_type": "display_data"
    },
    {
     "data": {
      "text/plain": [
       "[1] \"2018-11-04 16:22:04 CST\""
      ]
     },
     "metadata": {},
     "output_type": "display_data"
    }
   ],
   "source": [
    "# Calculations using POSIXct objects are completely analogous to those using Date objects. \n",
    "# Try to experiment with this code to increase or decrease POSIXct objects:\n",
    "now <- Sys.time()\n",
    "now + 3600          # add an hour\n",
    "now - 3600 * 24     # subtract a day"
   ]
  },
  {
   "cell_type": "code",
   "execution_count": 64,
   "metadata": {},
   "outputs": [
    {
     "data": {
      "text/plain": [
       "Time difference of 27792.55 days"
      ]
     },
     "metadata": {},
     "output_type": "display_data"
    }
   ],
   "source": [
    "#Adding or substracting time objects is also straightforward:\n",
    "\n",
    "birth <- as.POSIXct(\"1879-03-14 14:37:23\")\n",
    "death <- as.POSIXct(\"1955-04-18 03:47:12\")\n",
    "einstein <- death - birth\n",
    "einstein"
   ]
  },
  {
   "cell_type": "code",
   "execution_count": 65,
   "metadata": {},
   "outputs": [
    {
     "data": {
      "text/plain": [
       "Time difference of 10957.15 days"
      ]
     },
     "metadata": {},
     "output_type": "display_data"
    }
   ],
   "source": [
    "me_birth <- as.POSIXct(\"1988-11-05 13:00:00\")\n",
    "now <- Sys.time()\n",
    "me <- now - me_birth\n",
    "me"
   ]
  },
  {
   "cell_type": "code",
   "execution_count": 67,
   "metadata": {},
   "outputs": [
    {
     "data": {
      "text/plain": [
       "Time difference of 18262.85 days"
      ]
     },
     "metadata": {},
     "output_type": "display_data"
    }
   ],
   "source": [
    "me_age_80 <- as.POSIXct(\"2068-11-05 13:00:00\")\n",
    "me_age_80 - now"
   ]
  },
  {
   "cell_type": "code",
   "execution_count": 59,
   "metadata": {},
   "outputs": [
    {
     "ename": "ERROR",
     "evalue": "Error in eval(expr, envir, enclos): object 'logout' not found\n",
     "output_type": "error",
     "traceback": [
      "Error in eval(expr, envir, enclos): object 'logout' not found\nTraceback:\n"
     ]
    }
   ],
   "source": [
    "# NOT EXECUTABLE\n",
    "\n",
    "# login and logout are already defined in the workspace\n",
    "# Calculate the difference between login and logout: time_online\n",
    "time_online <- logout-login\n",
    "\n",
    "# Inspect the variable time_online\n",
    "time_online\n",
    "\n",
    "# Calculate the total time online\n",
    "sum(time_online)\n",
    "\n",
    "# Calculate the average time online\n",
    "mean(time_online)"
   ]
  },
  {
   "cell_type": "code",
   "execution_count": 68,
   "metadata": {},
   "outputs": [
    {
     "ename": "ERROR",
     "evalue": "Error in as.Date(astro, format = \"%d-%b-%Y\"): object 'astro' not found\n",
     "output_type": "error",
     "traceback": [
      "Error in as.Date(astro, format = \"%d-%b-%Y\"): object 'astro' not found\nTraceback:\n",
      "1. as.Date(astro, format = \"%d-%b-%Y\")"
     ]
    }
   ],
   "source": [
    "# NOT EXECUTABLE\n",
    "\n",
    "# Convert astro to vector of Date objects: astro_dates\n",
    "astro_dates <- as.Date(astro, format = \"%d-%b-%Y\")\n",
    "\n",
    "# Convert meteo to vector of Date objects: meteo_dates\n",
    "meteo_dates <- as.Date(meteo, format = \"%B %d, %y\")\n",
    "\n",
    "# Calculate the maximum absolute difference between astro_dates and meteo_dates\n",
    "\n",
    "max(abs(astro_dates-meteo_dates))"
   ]
  }
 ],
 "metadata": {
  "kernelspec": {
   "display_name": "R",
   "language": "R",
   "name": "ir"
  },
  "language_info": {
   "codemirror_mode": "r",
   "file_extension": ".r",
   "mimetype": "text/x-r-source",
   "name": "R",
   "pygments_lexer": "r",
   "version": "3.5.0"
  }
 },
 "nbformat": 4,
 "nbformat_minor": 2
}
